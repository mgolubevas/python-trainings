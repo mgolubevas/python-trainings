{
 "cells": [
  {
   "cell_type": "markdown",
   "metadata": {},
   "source": [
    "# Python Introduction\n"
   ]
  },
  {
   "cell_type": "markdown",
   "metadata": {},
   "source": [
    "## Index\n",
    "\n",
    "1. [How to Run Python Code](01-How-to-Run-Python-Code.ipynb)\n",
    "2. [Basic Python Syntax](02-Basic-Python-Syntax.ipynb)\n",
    "3. [Python Semantics: Variables](03-Semantics-Variables.ipynb)\n",
    "4. [Python Semantics: Operators](04-Semantics-Operators.ipynb)\n",
    "5. [Built-In Scalar Types](05-Built-in-Scalar-Types.ipynb)\n",
    "6. [Built-In Data Structures](06-Built-in-Data-Structures.ipynb)\n",
    "7. [Control Flow Statements](07-Control-Flow-Statements.ipynb)\n",
    "8. [Defining Functions](08-Defining-Functions.ipynb)\n",
    "9. [Defining Classes](09-Defining-Classes.ipynb)\n",
    "10. [Errors and Exceptions](10-Errors-and-Exceptions.ipynb)\n",
    "11. [Modules and Packages](11-Modules-and-Packages.ipynb)"
   ]
  },
  {
   "cell_type": "code",
   "execution_count": null,
   "metadata": {},
   "outputs": [],
   "source": []
  }
 ],
 "metadata": {
  "anaconda-cloud": {},
  "kernelspec": {
   "display_name": "Python 3",
   "language": "python",
   "name": "python3"
  },
  "language_info": {
   "codemirror_mode": {
    "name": "ipython",
    "version": 3
   },
   "file_extension": ".py",
   "mimetype": "text/x-python",
   "name": "python",
   "nbconvert_exporter": "python",
   "pygments_lexer": "ipython3",
   "version": "3.8.6"
  }
 },
 "nbformat": 4,
 "nbformat_minor": 4
}
