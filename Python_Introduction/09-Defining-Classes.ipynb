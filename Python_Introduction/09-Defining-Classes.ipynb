{
 "cells": [
  {
   "cell_type": "markdown",
   "metadata": {},
   "source": [
    "<!--NAVIGATION-->\n",
    "< [Defining Functions](08-Defining-Functions.ipynb) | [Contents](Index.ipynb) | [Errors and Exceptions](10-Errors-and-Exceptions.ipynb) >"
   ]
  },
  {
   "cell_type": "markdown",
   "metadata": {},
   "source": [
    "# Defining and Using Classes"
   ]
  },
  {
   "cell_type": "markdown",
   "metadata": {},
   "source": [
    "Object-oriented programming is one of the most effective approaches to writing software. In object-oriented programming you write classes that represent real-world things and situations, and you create objects based on these classes. When you write a class, you define the general behavior that a whole category of objects can have. When you create individual objects from the class, each object is automatically equipped with the general behavior; you can then give each object whatever unique traits you desire."
   ]
  },
  {
   "cell_type": "markdown",
   "metadata": {},
   "source": [
    "## Creating and Using a Class\n",
    "\n",
    "You can model almost anything using classes. Let’s start by writing a simple class, ``Dog``, that represents a dog—not one dog in particular, but any dog. What do we know about most pet dogs? Well, they all have a name and age. We also know that most dogs sit and roll over. Those two pieces of information (name and age) and those two behaviors (sit and roll over) will go in our Dog class because they’re common to most dogs. This class will tell Python how to make an object representing a dog. After our class is written, we’ll use it to make individual instances, each of which represents one specific dog."
   ]
  },
  {
   "cell_type": "code",
   "execution_count": null,
   "metadata": {},
   "outputs": [],
   "source": [
    "class Dog:\n",
    "    \"\"\"A simple attempt to model a dog.\"\"\"\n",
    "    \n",
    "    def __init__(self, name, age):\n",
    "        \"\"\"Initialize name and age attributes.\"\"\"\n",
    "        self.name = name\n",
    "        self.age = age\n",
    "    \n",
    "    def sit(self):\n",
    "        \"\"\"Simulate a dog sitting in response to a command.\"\"\"\n",
    "        print(f\"{self.name} is now sitting.\")\n",
    "    \n",
    "    def roll_over(self):\n",
    "        \"\"\"Simulate rolling over in response to a command.\"\"\"\n",
    "        print(f\"{self.name} rolled over!\")\n"
   ]
  },
  {
   "cell_type": "markdown",
   "metadata": {},
   "source": [
    "## Making an instance from a Class\n",
    "\n",
    "Think of a class as a set of instructions for how to make an instance. The class Dog is a set of instructions that tells Python how to make individual instances representing specific dogs.\n",
    "\n",
    "Let’s make an instance representing a specific dog:"
   ]
  },
  {
   "cell_type": "code",
   "execution_count": null,
   "metadata": {},
   "outputs": [],
   "source": [
    "my_dog = Dog('Willie', 6) #1\n",
    "\n",
    "print(f\"My dog's name is {my_dog.name}.\") #2\n",
    "print(f\"My dog is {my_dog.age} years old.\") #3"
   ]
  },
  {
   "cell_type": "markdown",
   "metadata": {},
   "source": [
    "The Dog class we’re using here is the one we just wrote in the previous example. At line #1 we tell Python to create a dog whose name is ``'Willie'`` and whose age is ``6``. When Python reads this line, it calls the ``__init__()`` method in Dog with the arguments ``'Willie'`` and ``6``. The ``__init__()`` method creates an instance representing this particular dog and sets the name and age attributes using the values we provided. Python then returns an instance representing this dog. We assign that instance to the variable ``my_dog``. The naming convention is helpful here: we can usually assume that a capitalized name like ``Dog`` refers to a class, and a lowercase name like ``my_dog`` refers to a single instance created from a class.\n",
    "\n",
    "### Accessing Attributes\n",
    "\n",
    "To access the attributes of an instance, you use dot notation. At #2 we access the value of ``my_dog``’s attribute name by writing:\n",
    "\n",
    "``my_dog.name``\n",
    "\n",
    "Dot notation is used often in Python. This syntax demonstrates how Python finds an attribute’s value. Here Python looks at the instance ``my_dog`` and then finds the attribute name associated with ``my_dog``. This is the same attribute referred to as ``self.name`` in the class ``Dog``. At #3 we use the same approach to work with the attribute age."
   ]
  },
  {
   "cell_type": "markdown",
   "metadata": {},
   "source": [
    "### Calling Methods\n",
    "\n",
    "After we create an instance from the class ``Dog``, we can use dot notation to call any method defined in ``Dog``. Let’s make our dog sit and roll over:"
   ]
  },
  {
   "cell_type": "code",
   "execution_count": null,
   "metadata": {},
   "outputs": [],
   "source": [
    "my_dog.sit()\n",
    "my_dog.roll_over()"
   ]
  },
  {
   "cell_type": "markdown",
   "metadata": {},
   "source": [
    "To call a method, give the name of the instance (in this case, ``my_dog``) and the method you want to call, separated by a dot. When Python reads ``my_dog.sit()``, it looks for the method ``sit()`` in the class ``Dog`` and runs that code. Python interprets the line ``my_dog.roll_over()`` in the same way.\n",
    "\n",
    "This syntax is quite useful. When attributes and methods have been given appropriately descriptive names like ``name``, ``age``, ``sit()``, and ``roll_over()``, we can easily infer what a block of code, even one we’ve never seen before, is supposed to do."
   ]
  },
  {
   "cell_type": "markdown",
   "metadata": {},
   "source": [
    "### Creating Multiple instances\n",
    "\n",
    "You can create as many instances from a class as you need. Let’s create a second dog called ``your_dog``:"
   ]
  },
  {
   "cell_type": "code",
   "execution_count": null,
   "metadata": {},
   "outputs": [],
   "source": [
    "my_dog = Dog('Willie', 6)\n",
    "your_dog = Dog('Lucy', 3)\n",
    "\n",
    "print(f\"My dog's name is {my_dog.name}.\")\n",
    "print(f\"My dog is {my_dog.age} years old.\")\n",
    "my_dog.sit()\n",
    "\n",
    "print(f\"\\nYour dog's name is {your_dog.name}.\")\n",
    "print(f\"Your dog is {your_dog.age} years old.\")\n",
    "your_dog.sit()"
   ]
  },
  {
   "cell_type": "markdown",
   "metadata": {},
   "source": [
    "In this example we create a dog named Willie and a dog named Lucy. Each dog is a separate instance with its own set of attributes, capable of the same set of actions.\n",
    "\n",
    "Even if we used the same name and age for the second dog, Python would still create a separate instance from the ``Dog`` class. You can make as many instances from one class as you need, as long as you give each instance a unique variable name or it occupies a unique spot in a list or dictionary."
   ]
  },
  {
   "cell_type": "markdown",
   "metadata": {},
   "source": [
    "## Working with Classes and Instances\n",
    "\n",
    "You can use classes to represent many real-world situations. Once you write a class, you’ll spend most of your time working with instances created from that class. One of the first tasks you’ll want to do is modify the attributes associated with a particular instance. You can modify the attributes of an instance directly or write methods that update attributes in specific ways.\n",
    "\n",
    "Let’s write a new class representing a car. Our class will store information about the kind of car we’re working with, and it will have a method that summarizes this information:"
   ]
  },
  {
   "cell_type": "code",
   "execution_count": null,
   "metadata": {},
   "outputs": [],
   "source": [
    "class Car:\n",
    "    \"\"\"A simple attempt to represent a car.\"\"\"\n",
    "\n",
    "    def __init__(self, make, model, year): #1\n",
    "        \"\"\"Initialize attributes to describe a car.\"\"\"\n",
    "        self.make = make\n",
    "        self.model = model\n",
    "        self.year = year\n",
    "        self.odometer_reading = 0 #2\n",
    "\n",
    "    def get_descriptive_name(self): #3\n",
    "        \"\"\"Return a neatly formatted descriptive name.\"\"\"\n",
    "        long_name = f\"{self.year} {self.make} {self.model}\"\n",
    "        return long_name.title()\n",
    "    \n",
    "    def read_odometer(self): #4\n",
    "        \"\"\"Print a statement showing the car's mileage.\"\"\"\n",
    "        print(f\"This car has {self.odometer_reading} kilometers on it.\")\n",
    "    \n",
    "    def update_odometer(self, mileage): #5\n",
    "        \"\"\"\n",
    "        Set the odometer reading to the given value.\n",
    "        Reject the change if it attempts to roll the odometer back.\n",
    "        \"\"\"\n",
    "        if mileage >= self.odometer_reading: #6\n",
    "            self.odometer_reading = mileage\n",
    "        else:\n",
    "            print(\"You can't roll back an odometer!\")\n",
    "    \n",
    "    def increment_odometer(self, kilometers): #7\n",
    "        \"\"\"Add the given amount to the odometer reading.\"\"\"\n",
    "        self.odometer_reading += kilometers"
   ]
  },
  {
   "cell_type": "markdown",
   "metadata": {},
   "source": [
    "At #1 in the Car class, we define the ``__init__()`` method with the self parameter first, just like we did before with our ``Dog`` class. We also give it three other parameters: ``make``, ``model``, and ``year``. The ``__init__()`` method takes in these parameters and assigns them to the attributes that will be associated with instances made from this class. When we make a new Car instance, we’ll need to specify a make, model, and year for our instance.\n",
    "\n",
    "At #3 we define a method called ``get_descriptive_name()`` that puts a car’s ``year``, ``make``, and ``model`` into one string neatly describing the car. This will spare us from having to print each attribute’s value individually. To work with the attribute values in this method, we use ``self.make``, ``self.model``, and ``self.year``.\n",
    "\n",
    "We make an instance from the ``Car`` class and assign it to the variable ``my_new_car``. Then we call ``get_descriptive_name()`` to show what kind of car we have:"
   ]
  },
  {
   "cell_type": "code",
   "execution_count": null,
   "metadata": {},
   "outputs": [],
   "source": [
    "my_new_car = Car('audi', 'a4', 2019)\n",
    "print(my_new_car.get_descriptive_name())"
   ]
  },
  {
   "cell_type": "markdown",
   "metadata": {},
   "source": [
    "### Setting a Default Value for an Attribute\n",
    "\n",
    "When an instance is created, attributes can be defined without being passed in as parameters. These attributes can be defined in the ``__init__()`` method, where they are assigned a default value.\n",
    "\n",
    "Let's look at line #2. When Python creates a new attribute called odometer_reading and sets its initial value to 0. We also have a method called ``read_odometer()`` at #4 that makes it easy to read a car’s mileage."
   ]
  },
  {
   "cell_type": "code",
   "execution_count": null,
   "metadata": {},
   "outputs": [],
   "source": [
    "my_new_car.read_odometer()"
   ]
  },
  {
   "cell_type": "markdown",
   "metadata": {},
   "source": [
    "### Modifying Attribute Values\n",
    "\n",
    "You can change an attribute’s value in three ways: you can change the value directly through an instance, set the value through a method, or increment the value (add a certain amount to it) through a method. Let’s look at each of these approaches.\n",
    "\n",
    "### Modifying an Attribute’s Value Directly\n",
    "\n",
    "The simplest way to modify the value of an attribute is to access the attribute directly through an instance. Here we set the odometer reading to 23 directly:"
   ]
  },
  {
   "cell_type": "code",
   "execution_count": null,
   "metadata": {},
   "outputs": [],
   "source": [
    "my_new_car.odometer_reading = 23 #8\n",
    "my_new_car.read_odometer()"
   ]
  },
  {
   "cell_type": "markdown",
   "metadata": {},
   "source": [
    "At #8 we use dot notation to access the car’s ``odometer_reading`` attribute and set its value directly. This line tells Python to take the instance ``my_new_car``, find the attribute ``odometer_reading`` associated with it, and set the value of that attribute to 23.\n",
    "\n",
    "Sometimes you’ll want to access attributes directly like this, but other times you’ll want to write a method that updates the value for you."
   ]
  },
  {
   "cell_type": "markdown",
   "metadata": {},
   "source": [
    "### Modifying an Attribute’s Value Through a Method\n",
    "\n",
    "It can be helpful to have methods that update certain attributes for you. Instead of accessing the attribute directly, you pass the new value to a method that handles the updating internally.\n",
    "\n",
    "Let's use ``update_odometer()`` method from our ``Car`` class as an example. This method takes in a mileage value and assigns it to ``self.odometer_reading``. At #9 we call ``update_odometer() ``and give it 34 as an argument (corresponding to the mileage parameter in the method definition). It sets the odometer reading to 34, and ``read_odometer()`` prints the reading:"
   ]
  },
  {
   "cell_type": "code",
   "execution_count": null,
   "metadata": {},
   "outputs": [],
   "source": [
    "my_new_car.update_odometer(34) #9\n",
    "my_new_car.read_odometer()"
   ]
  },
  {
   "cell_type": "markdown",
   "metadata": {},
   "source": [
    "Now let's take a closer look at ``update_odometer()`` method in the ``Car`` class. It is written in such way that it checks that the new reading makes sense before modifying the attribute. If the new mileage, ``mileage``, is greater than or equal to the existing mileage, ``self.odometer_reading``, you can update the odometer reading to the new mileage. If the new mileage is less than the existing mileage, you’ll get a warning that you can’t roll back an odometer."
   ]
  },
  {
   "cell_type": "markdown",
   "metadata": {},
   "source": [
    "### Incrementing an Attribute’s Value Through a Method\n",
    "\n",
    "Sometimes you’ll want to increment an attribute’s value by a certain amount rather than set an entirely new value. Say we buy a used car and put 100 miles on it between the time we buy it and the time we register it. Here’s a method that allows us to pass this incremental amount and add that value to the odometer reading:"
   ]
  },
  {
   "cell_type": "code",
   "execution_count": null,
   "metadata": {},
   "outputs": [],
   "source": [
    "my_used_car = Car('subaru', 'outback', 2015) #10\n",
    "print(my_used_car.get_descriptive_name())\n",
    "\n",
    "my_used_car.update_odometer(23_500) #11\n",
    "my_used_car.read_odometer()\n",
    "\n",
    "my_used_car.increment_odometer(100) #12\n",
    "my_used_car.read_odometer()"
   ]
  },
  {
   "cell_type": "markdown",
   "metadata": {},
   "source": [
    "The important method to look at in this example is ``increment_odometer()`` at #12 as it takes in a number of kilometers, and adds this value to ``self.odometer_reading``. At #10 we create a used car, ``my_used_car``. We set its odometer to 23,500 by calling ``update_odometer()`` and passing it 23_500 at #11. At #12 we call ``increment_odometer()`` and pass it 100 to add the 100 kilometers that we drove between buying the car and registering it."
   ]
  },
  {
   "cell_type": "markdown",
   "metadata": {},
   "source": [
    "## Inheritance\n",
    "\n",
    "Lastly let's look at class inheritance. You don’t always have to start from scratch when writing a class. If the class you’re writing is a specialized version of another class you wrote, you can use inheritance. When one class inherits from another, it takes on the attributes and methods of the first class. The original class is called the parent class, and the new class is the child class. The child class can inherit any or all of the attributes and methods of its parent class, but it’s also free to define new attributes and methods of its own."
   ]
  },
  {
   "cell_type": "markdown",
   "metadata": {},
   "source": [
    "### The ``__init__()`` Method for a Child Class\n",
    "When you’re writing a new class based on an existing class, you’ll often want to call the ``__init__()`` method from the parent class. This will initialize any attributes that were defined in the parent ``__init__()`` method and make them available in the child class.\n",
    "\n",
    "As an example, let’s model an electric car. An electric car is just a specific kind of car, so we can base our new ``ElectricCar`` class on the ``Car`` class we wrote earlier. Then we’ll only have to write code for the attributes and behavior specific to electric cars.\n",
    "\n",
    "Let’s start by making a simple version of the ``ElectricCar`` class, which does everything the ``Car`` class does:"
   ]
  },
  {
   "cell_type": "code",
   "execution_count": null,
   "metadata": {},
   "outputs": [],
   "source": [
    "class ElectricCar(Car):\n",
    "    \"\"\"Represent aspects of a car, specific to electric vehicles.\"\"\"\n",
    "    \n",
    "    def __init__(self, make, model, year):\n",
    "        \"\"\"Initialize attributes of the parent class.\"\"\"\n",
    "        super().__init__(make, model, year)\n",
    "        self.battery_size = 75 #14\n",
    "        \n",
    "    def describe_battery(self): #15\n",
    "        \"\"\"Print a statement describing the battery size.\"\"\"\n",
    "        print(f\"This car has a {self.battery_size}-kWh battery.\")\n",
    "\n",
    "my_tesla = ElectricCar('tesla', 'model s', 2019)\n",
    "print(my_tesla.get_descriptive_name())"
   ]
  },
  {
   "cell_type": "markdown",
   "metadata": {},
   "source": [
    "### Defining Attributes and Methods for the Child Class\n",
    "Once you have a child class that inherits from a parent class, you can add any new attributes and methods necessary to differentiate the child class from the parent class.\n",
    "\n",
    "Let’s look at an example above where we have an attribute that’s specific to electric cars (a battery, for example) and a method to report on this attribute. We store the battery size and have a method that prints a description of the battery:"
   ]
  },
  {
   "cell_type": "code",
   "execution_count": null,
   "metadata": {},
   "outputs": [],
   "source": [
    "my_tesla.describe_battery()"
   ]
  },
  {
   "cell_type": "markdown",
   "metadata": {},
   "source": [
    "At #14 we add a new attribute ``self.battery_size`` and set its initial value to, say, 75. This attribute will be associated with all instances created from the ``ElectricCar`` class but won’t be associated with any instances of ``Car``. We also add a method called ``describe_battery()`` that prints information about the battery at #15. When we call this method, we get a description that is clearly specific to an electric car."
   ]
  },
  {
   "cell_type": "markdown",
   "metadata": {},
   "source": [
    "There’s no limit to how much you can specialize the ``ElectricCar`` class. You can add as many attributes and methods as you need to model an electric car to whatever degree of accuracy you need. An attribute or method that could belong to any car, rather than one that’s specific to an electric car, should be added to the ``Car`` class instead of the ``ElectricCar`` class. Then anyone who uses the ``Car`` class will have that functionality available as well, and the ``ElectricCar`` class will only contain code for the information and behavior specific to electric vehicles."
   ]
  },
  {
   "cell_type": "markdown",
   "metadata": {},
   "source": [
    "<!--NAVIGATION-->\n",
    "< [Defining Functions](08-Defining-Functions.ipynb) | [Contents](Index.ipynb) | [Errors and Exceptions](10-Errors-and-Exceptions.ipynb) >"
   ]
  },
  {
   "cell_type": "code",
   "execution_count": null,
   "metadata": {},
   "outputs": [],
   "source": []
  }
 ],
 "metadata": {
  "kernelspec": {
   "display_name": "Python 3",
   "language": "python",
   "name": "python3"
  },
  "language_info": {
   "codemirror_mode": {
    "name": "ipython",
    "version": 3
   },
   "file_extension": ".py",
   "mimetype": "text/x-python",
   "name": "python",
   "nbconvert_exporter": "python",
   "pygments_lexer": "ipython3",
   "version": "3.6.5"
  }
 },
 "nbformat": 4,
 "nbformat_minor": 5
}
