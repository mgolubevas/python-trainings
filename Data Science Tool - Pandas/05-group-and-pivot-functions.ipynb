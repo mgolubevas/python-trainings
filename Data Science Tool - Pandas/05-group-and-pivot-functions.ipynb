{
 "cells": [
  {
   "cell_type": "markdown",
   "id": "2de43b50",
   "metadata": {},
   "source": [
    "<!--NAVIGATION-->\n",
    "< [More Operation on Dataframe](04-more-operation-on-dataframe.ipynb) | [Contents](Index.ipynb) | [Apply and Timestamp](06-apply-and-timestamp.ipynb) >"
   ]
  },
  {
   "cell_type": "markdown",
   "id": "7f43c00b",
   "metadata": {},
   "source": [
    "## Group and Pivot functions"
   ]
  },
  {
   "cell_type": "markdown",
   "id": "578dfa7f",
   "metadata": {},
   "source": [
    "Here you will learn how to pivot or either group dataframe with pandas"
   ]
  },
  {
   "cell_type": "markdown",
   "id": "30d705ea",
   "metadata": {},
   "source": [
    "To be able to test the functions, lets import a dataframe from dwh"
   ]
  },
  {
   "cell_type": "code",
   "execution_count": null,
   "id": "f4592c94",
   "metadata": {},
   "outputs": [],
   "source": [
    "import pandas as pd\n",
    "\n",
    "df = pd.read_csv('../Data/airlineDT.csv', sep=',')\n",
    "df.head(5)"
   ]
  },
  {
   "cell_type": "markdown",
   "id": "02f8859e",
   "metadata": {},
   "source": [
    "### Pivot"
   ]
  },
  {
   "cell_type": "markdown",
   "id": "bbd52419",
   "metadata": {},
   "source": [
    "Pivot function can remind you a similar operation by using microsoft excel. Reshape data (produce a “pivot” table) based on column values. Uses unique values from specified index / columns to form axes of the resulting DataFrame. Let's say we have time series data. Given tools are especially good to deal with multiple indexes or with a panel data. Lets explore a case if you can a panel data"
   ]
  },
  {
   "cell_type": "code",
   "execution_count": null,
   "id": "b3c12ff9",
   "metadata": {},
   "outputs": [],
   "source": [
    "import pandas as pd\n",
    "df_pivot = pd.DataFrame({'date': ['2000-01-03', '2000-01-04', '2000-01-05', '2000-01-03', '2000-01-04', '2000-01-05',\n",
    "                           '2000-01-03', '2000-01-04', '2000-01-05','2000-01-03', '2000-01-04', '2000-01-05'],\n",
    "                   'variable': ['A', 'A', 'A', 'B', 'B', 'B', 'C', 'C', 'C', 'D', 'D', 'D'],\n",
    "                   'value': [0.469112, -0.282863, -1.509059, -1.135632, 1.212112, -0.173215, 0.119209, -1.044236,\n",
    "                            -0.861849, -2.104569, -0.494929, 1.071804]})\n",
    "df_pivot"
   ]
  },
  {
   "cell_type": "markdown",
   "id": "8531f8bc",
   "metadata": {},
   "source": [
    "Suppose we wish to do time series operations with the variables. A better representation would be where the columns are the unique variables and an index of dates identifies individual observations. Here comes pivot as a helpful tool."
   ]
  },
  {
   "cell_type": "code",
   "execution_count": null,
   "id": "85f67bb4",
   "metadata": {},
   "outputs": [],
   "source": [
    "df_pivot.pivot(index=\"date\", columns=\"variable\", values=\"value\")"
   ]
  },
  {
   "cell_type": "markdown",
   "id": "bd0a3fe1",
   "metadata": {},
   "source": [
    "What if DataFrame has more than one column of values which are not used as column or index inputs to pivotx"
   ]
  },
  {
   "cell_type": "code",
   "execution_count": null,
   "id": "a79fa641",
   "metadata": {},
   "outputs": [],
   "source": [
    "df_pivot[\"value2\"] = df_pivot[\"value\"] * 2\n",
    "df_pivot"
   ]
  },
  {
   "cell_type": "code",
   "execution_count": null,
   "id": "ff1f7c1a",
   "metadata": {},
   "outputs": [],
   "source": [
    "pivoted = df_pivot.pivot(index=\"date\", columns=\"variable\")\n",
    "pivoted"
   ]
  },
  {
   "cell_type": "markdown",
   "id": "e528fa9f",
   "metadata": {},
   "source": [
    "You can notice that we have multiple indexes. Moreover, you can create the subsets from the pivoted DataFrame"
   ]
  },
  {
   "cell_type": "code",
   "execution_count": null,
   "id": "553fc066",
   "metadata": {
    "scrolled": true
   },
   "outputs": [],
   "source": [
    "pivoted[\"value2\"]"
   ]
  },
  {
   "cell_type": "markdown",
   "id": "bf84c5b0",
   "metadata": {},
   "source": [
    "### Group"
   ]
  },
  {
   "cell_type": "markdown",
   "id": "1cd78403",
   "metadata": {},
   "source": [
    "A groupby operation involves some combination of splitting the object, applying a function, and combining the results. We want to create a dataframe, to select a column and to get instantly a mean based on every unique value in the selected column."
   ]
  },
  {
   "cell_type": "code",
   "execution_count": null,
   "id": "f84f25f9",
   "metadata": {},
   "outputs": [],
   "source": [
    "df.head()"
   ]
  },
  {
   "cell_type": "code",
   "execution_count": null,
   "id": "e1917a16",
   "metadata": {},
   "outputs": [],
   "source": [
    "df.groupby(['CARRIER']).mean()"
   ]
  },
  {
   "cell_type": "markdown",
   "id": "774d62f3",
   "metadata": {},
   "source": [
    "You can notice that for every unique **CARRIER** we got a mean of other variables where our unique **CARRIER** belongs and are numeric."
   ]
  },
  {
   "cell_type": "code",
   "execution_count": null,
   "id": "aff3151f",
   "metadata": {},
   "outputs": [],
   "source": [
    "df.groupby(['CARRIER']).sum()"
   ]
  },
  {
   "cell_type": "markdown",
   "id": "a72166f8",
   "metadata": {},
   "source": [
    "As well we can inspect what kind of values appears first of given groups."
   ]
  },
  {
   "cell_type": "code",
   "execution_count": null,
   "id": "6b9366f4",
   "metadata": {},
   "outputs": [],
   "source": [
    "df.groupby(['CARRIER']).first()"
   ]
  },
  {
   "cell_type": "markdown",
   "id": "a2cff368",
   "metadata": {},
   "source": [
    "Moreover, we can group by more variables."
   ]
  },
  {
   "cell_type": "code",
   "execution_count": null,
   "id": "879d3d63",
   "metadata": {
    "scrolled": true
   },
   "outputs": [],
   "source": [
    "df.groupby(['CARRIER','ORIGIN']).mean()"
   ]
  },
  {
   "cell_type": "markdown",
   "id": "2a6d5623",
   "metadata": {},
   "source": [
    "If you want to explore more about this field, you can look at the given reference: \n",
    "- Pivot: https://pandas.pydata.org/pandas-docs/stable/reference/api/pandas.DataFrame.pivot.html\n",
    "- GroupBy: https://pandas.pydata.org/pandas-docs/stable/reference/api/pandas.DataFrame.groupby.html\n",
    "- Advanced examples: https://pandas.pydata.org/pandas-docs/stable/user_guide/reshaping.html"
   ]
  },
  {
   "cell_type": "markdown",
   "id": "e3b1aa25",
   "metadata": {},
   "source": [
    "<!--NAVIGATION-->\n",
    "< [More Operation on Dataframe](04-more-operation-on-dataframe.ipynb) | [Contents](Index.ipynb) | [Apply and Timestamp](06-apply-and-timestamp.ipynb) >"
   ]
  }
 ],
 "metadata": {
  "kernelspec": {
   "display_name": "Python 3",
   "language": "python",
   "name": "python3"
  },
  "language_info": {
   "codemirror_mode": {
    "name": "ipython",
    "version": 3
   },
   "file_extension": ".py",
   "mimetype": "text/x-python",
   "name": "python",
   "nbconvert_exporter": "python",
   "pygments_lexer": "ipython3",
   "version": "3.8.5"
  }
 },
 "nbformat": 4,
 "nbformat_minor": 5
}
