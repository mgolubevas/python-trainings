{
 "cells": [
  {
   "cell_type": "markdown",
   "id": "italian-defensive",
   "metadata": {},
   "source": [
    "# Pandas Introduction\n"
   ]
  },
  {
   "cell_type": "markdown",
   "id": "former-marketing",
   "metadata": {},
   "source": [
    "## Table of Content\n",
    "\n",
    "1. [Intro and Load Data](01-intro-and-load-data.ipynb)\n",
    "2. [Join Merge and Concatenate](02-join-merge-and-concatenate.ipynb)\n",
    "3. [Data Cleaning and Handling Missing Values](03-data-cleaning-and-handling-missing-values.ipynb)\n",
    "4. [More Operation on Dataframe](04-more-operation-on-dataframe.ipynb)\n",
    "5. [Group and Pivot Functions](05-group-and-pivot-functions.ipynb)\n",
    "6. [Apply and Timestamp](06-apply-and-timestamp.ipynb)\n",
    "7. [Visualisation](07-visualisation.ipynb)"
   ]
  },
  {
   "cell_type": "code",
   "execution_count": null,
   "id": "rotary-lease",
   "metadata": {},
   "outputs": [],
   "source": []
  }
 ],
 "metadata": {
  "kernelspec": {
   "display_name": "Python 3",
   "language": "python",
   "name": "python3"
  },
  "language_info": {
   "codemirror_mode": {
    "name": "ipython",
    "version": 3
   },
   "file_extension": ".py",
   "mimetype": "text/x-python",
   "name": "python",
   "nbconvert_exporter": "python",
   "pygments_lexer": "ipython3",
   "version": "3.8.5"
  }
 },
 "nbformat": 4,
 "nbformat_minor": 5
}
