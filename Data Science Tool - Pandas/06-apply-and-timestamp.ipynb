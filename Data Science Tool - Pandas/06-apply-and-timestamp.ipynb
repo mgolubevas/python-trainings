{
 "cells": [
  {
   "cell_type": "markdown",
   "id": "3609ee82",
   "metadata": {},
   "source": [
    "<!--NAVIGATION-->\n",
    "< [Group and Pivot Functions](05-group-and-pivot-functions.ipynb) | [Contents](Index.ipynb) | [Visualisation](07-visualisation.ipynb) >"
   ]
  },
  {
   "cell_type": "markdown",
   "id": "dc8460f7",
   "metadata": {},
   "source": [
    "## Apply and TimeStamp"
   ]
  },
  {
   "cell_type": "markdown",
   "id": "d967bbe5",
   "metadata": {},
   "source": [
    "Here you will learn about apply and delta operations for pandas"
   ]
  },
  {
   "cell_type": "markdown",
   "id": "15426eb0",
   "metadata": {},
   "source": [
    "To be able to test the functions, lets import a dataframe from dwh"
   ]
  },
  {
   "cell_type": "code",
   "execution_count": null,
   "id": "bc070091",
   "metadata": {},
   "outputs": [],
   "source": [
    "import pandas as pd\n",
    "\n",
    "df = pd.read_csv('../Data/airlineDT.csv', sep=',')\n",
    "df.head(5)"
   ]
  },
  {
   "cell_type": "markdown",
   "id": "8a2a6fab",
   "metadata": {},
   "source": [
    "### Apply"
   ]
  },
  {
   "cell_type": "markdown",
   "id": "3e3a18f2",
   "metadata": {},
   "source": [
    "You can apply a function along an axis of the DataFrame. Objects passed to the function are Series objects whose index is either the DataFrame’s index (axis=1) or the DataFrame’s columns (axis=0)."
   ]
  },
  {
   "cell_type": "code",
   "execution_count": null,
   "id": "2ae59601",
   "metadata": {},
   "outputs": [],
   "source": [
    "df.head(5)"
   ]
  },
  {
   "cell_type": "markdown",
   "id": "c9f92e5b",
   "metadata": {},
   "source": [
    "By selecting a dataset and using **apply**, you can define what to apply. Let's say we want to apply a square root function for every value or a more complicated numerical formulas. Numpy support a rich mathematical formulas for the values alone which we will going to use it."
   ]
  },
  {
   "cell_type": "code",
   "execution_count": null,
   "id": "a2a448dd",
   "metadata": {},
   "outputs": [],
   "source": [
    "df['ARR_TIME']"
   ]
  },
  {
   "cell_type": "code",
   "execution_count": null,
   "id": "ce88148d",
   "metadata": {},
   "outputs": [],
   "source": [
    "import numpy as np\n",
    "df['ARR_TIME_SQRT'] = df['ARR_TIME'].apply(np.sqrt)\n",
    "\n",
    "df[['ARR_TIME','ARR_TIME_SQRT']].head(10)"
   ]
  },
  {
   "cell_type": "markdown",
   "id": "56678159",
   "metadata": {},
   "source": [
    "You can notice that out dataframe stays the same, only all the values have been modified by root square."
   ]
  },
  {
   "cell_type": "markdown",
   "id": "485ca61b",
   "metadata": {},
   "source": [
    "Lambda can be a powerful tool to create a custom function to instantly apply for every value."
   ]
  },
  {
   "cell_type": "code",
   "execution_count": null,
   "id": "20d78f8b",
   "metadata": {},
   "outputs": [],
   "source": [
    "df['ARR_TIME_LAMBDA'] = df['ARR_TIME'].apply(lambda x: x ** 2)\n",
    "\n",
    "df[['ARR_TIME_LAMBDA','ARR_TIME']].head(10)"
   ]
  },
  {
   "cell_type": "code",
   "execution_count": null,
   "id": "d0ce3846",
   "metadata": {},
   "outputs": [],
   "source": [
    "df['ARR_TIME_LAMBDA_2'] = df['ARR_TIME'].apply(lambda x: (x + 1)**2)\n",
    "\n",
    "df[['ARR_TIME_LAMBDA_2','ARR_TIME']].head(10)"
   ]
  },
  {
   "cell_type": "markdown",
   "id": "bc23dad0",
   "metadata": {},
   "source": [
    "You can notice that for every value, x: function() was applied. Reference:\n",
    "- https://pandas.pydata.org/pandas-docs/stable/reference/api/pandas.DataFrame.apply.html"
   ]
  },
  {
   "cell_type": "markdown",
   "id": "6bede1ae",
   "metadata": {},
   "source": [
    "### TimeStamp"
   ]
  },
  {
   "cell_type": "markdown",
   "id": "4256815a",
   "metadata": {},
   "source": [
    "TimeStamp has a format of our datetime which we can explore more"
   ]
  },
  {
   "cell_type": "code",
   "execution_count": null,
   "id": "f8fb6389",
   "metadata": {},
   "outputs": [],
   "source": [
    "df['TIME_HOUR'].head(10)"
   ]
  },
  {
   "cell_type": "markdown",
   "id": "987cf8c4",
   "metadata": {},
   "source": [
    "We selected Series, so it can not be clear what kind of specific format does have our variable, by by selecting only one value, we can see datatype of sperate one value"
   ]
  },
  {
   "cell_type": "code",
   "execution_count": null,
   "id": "cced1409",
   "metadata": {},
   "outputs": [],
   "source": [
    "df['TIME_HOUR'][0]"
   ]
  },
  {
   "cell_type": "markdown",
   "id": "89b39b31",
   "metadata": {},
   "source": [
    "We can explore a specific value of DataStamp separatelly from the Series"
   ]
  },
  {
   "cell_type": "code",
   "execution_count": null,
   "id": "e1e57061",
   "metadata": {},
   "outputs": [],
   "source": [
    "df['TIME_HOUR'][0].dayofweek"
   ]
  },
  {
   "cell_type": "markdown",
   "id": "a376b2b7",
   "metadata": {},
   "source": [
    "But if we want to explore the whole Series, you cannot apply the same functions as for one TimeStamp value."
   ]
  },
  {
   "cell_type": "markdown",
   "id": "499e3606",
   "metadata": {},
   "source": [
    "When it comes for dataframe, Timestamp in Series works in the same way as regular Series. Lets explore more about timestamp in dataframe"
   ]
  },
  {
   "cell_type": "code",
   "execution_count": null,
   "id": "3fcf502c",
   "metadata": {},
   "outputs": [],
   "source": [
    "df['TIME_HOUR'].min()"
   ]
  },
  {
   "cell_type": "code",
   "execution_count": null,
   "id": "b9ac17f5",
   "metadata": {},
   "outputs": [],
   "source": [
    "df['TIME_HOUR'].max()"
   ]
  },
  {
   "cell_type": "markdown",
   "id": "e4a47a98",
   "metadata": {},
   "source": [
    "But it support additional date time operations"
   ]
  },
  {
   "cell_type": "code",
   "execution_count": null,
   "id": "ace483da",
   "metadata": {},
   "outputs": [],
   "source": [
    "df['TIME_HOUR'].dt.month"
   ]
  },
  {
   "cell_type": "code",
   "execution_count": null,
   "id": "047a0fcb",
   "metadata": {},
   "outputs": [],
   "source": [
    "df['TIME_HOUR'].dt.weekday"
   ]
  },
  {
   "cell_type": "markdown",
   "id": "932afa5d",
   "metadata": {},
   "source": [
    "Given operations can help us to take out specific values from the time series, as well to apply some basics math operations. Lets say we want to filter out the values, which are between two date times."
   ]
  },
  {
   "cell_type": "code",
   "execution_count": null,
   "id": "de760f2a",
   "metadata": {},
   "outputs": [],
   "source": [
    "june = pd.Timestamp('2013-06-01') # June\n",
    "september = pd.Timestamp('2013-09-01') # September"
   ]
  },
  {
   "cell_type": "code",
   "execution_count": null,
   "id": "c5a276ad",
   "metadata": {},
   "outputs": [],
   "source": [
    "june"
   ]
  },
  {
   "cell_type": "code",
   "execution_count": null,
   "id": "5190c895",
   "metadata": {},
   "outputs": [],
   "source": [
    "september"
   ]
  },
  {
   "cell_type": "code",
   "execution_count": null,
   "id": "95217a35",
   "metadata": {},
   "outputs": [],
   "source": [
    "df.loc[ (df['TIME_HOUR'] > june) & (df['TIME_HOUR'] < september), 'TIME_HOUR']"
   ]
  },
  {
   "cell_type": "markdown",
   "id": "4dda2132",
   "metadata": {},
   "source": [
    "Or to select rows where is tim equals to 21 hours"
   ]
  },
  {
   "cell_type": "code",
   "execution_count": null,
   "id": "0607c4df",
   "metadata": {},
   "outputs": [],
   "source": [
    "df.loc[df['TIME_HOUR'].dt.hour == 21,'TIME_HOUR']"
   ]
  },
  {
   "cell_type": "markdown",
   "id": "9702fbaa",
   "metadata": {},
   "source": [
    "If you want to see more advanced level, you can look at the given reference:\n",
    "- https://pandas.pydata.org/pandas-docs/stable/user_guide/timedeltas.html\n",
    "- https://pandas.pydata.org/pandas-docs/stable/reference/api/pandas.Timestamp.html\n",
    "- https://pandas.pydata.org/docs/user_guide/timeseries.html"
   ]
  },
  {
   "cell_type": "markdown",
   "id": "e48a4eea",
   "metadata": {},
   "source": [
    "<!--NAVIGATION-->\n",
    "< [Group and Pivot Functions](05-group-and-pivot-functions.ipynb) | [Contents](Index.ipynb) | [Visualisation](07-visualisation.ipynb) >"
   ]
  }
 ],
 "metadata": {
  "kernelspec": {
   "display_name": "Python 3",
   "language": "python",
   "name": "python3"
  },
  "language_info": {
   "codemirror_mode": {
    "name": "ipython",
    "version": 3
   },
   "file_extension": ".py",
   "mimetype": "text/x-python",
   "name": "python",
   "nbconvert_exporter": "python",
   "pygments_lexer": "ipython3",
   "version": "3.8.5"
  }
 },
 "nbformat": 4,
 "nbformat_minor": 5
}
