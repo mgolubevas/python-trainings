{
 "cells": [
  {
   "cell_type": "markdown",
   "id": "7bec999c",
   "metadata": {},
   "source": [
    "<!--NAVIGATION-->\n",
    "< [Apply and Timestamp](06-apply-and-timestamp.ipynb) | [Contents](Index.ipynb) >"
   ]
  },
  {
   "cell_type": "markdown",
   "id": "57abc35a",
   "metadata": {},
   "source": [
    "## Visualisation"
   ]
  },
  {
   "cell_type": "markdown",
   "id": "c4341144",
   "metadata": {},
   "source": [
    "To be able to test the functions, lets import a dataframe from dwh"
   ]
  },
  {
   "cell_type": "code",
   "execution_count": null,
   "id": "43b4a8b6",
   "metadata": {},
   "outputs": [],
   "source": [
    "import pandas as pd\n",
    "\n",
    "df = pd.read_csv('../Data/airlineDT.csv', sep=',')\n",
    "df.head(5)"
   ]
  },
  {
   "cell_type": "markdown",
   "id": "ef3815c5",
   "metadata": {},
   "source": [
    "Pandas support a quick visualisation where we can easily get a big picture of desired variables. In order to use it, we need to import matplotlib library which we will be use later. The idea is that Pandas use the standard convention for referencing the matplotlib API."
   ]
  },
  {
   "cell_type": "code",
   "execution_count": null,
   "id": "8e6159a8",
   "metadata": {},
   "outputs": [],
   "source": [
    "import matplotlib.pyplot as plt"
   ]
  },
  {
   "cell_type": "code",
   "execution_count": null,
   "id": "099bc272",
   "metadata": {},
   "outputs": [],
   "source": [
    "df['ARR_DELAY'].plot()\n",
    "plt.show()"
   ]
  },
  {
   "cell_type": "markdown",
   "id": "ba0f6217",
   "metadata": {},
   "source": [
    "Here is a quick look for a data, but we might want more details"
   ]
  },
  {
   "cell_type": "code",
   "execution_count": null,
   "id": "f06e952f",
   "metadata": {},
   "outputs": [],
   "source": [
    "df['DEP_DELAY'].plot()\n",
    "plt.ylabel('Minutes')\n",
    "plt.xlabel('Index ID')\n",
    "\n",
    "plt.title(\"DEP_DELAY\")\n",
    "plt.legend()\n",
    "plt.show()"
   ]
  },
  {
   "cell_type": "markdown",
   "id": "d3a26b60",
   "metadata": {},
   "source": [
    "or a quick histogram, how data is looking"
   ]
  },
  {
   "cell_type": "code",
   "execution_count": null,
   "id": "a565f856",
   "metadata": {},
   "outputs": [],
   "source": [
    "df['ORIGIN'].hist()\n",
    "\n",
    "plt.ylabel('Frequency')\n",
    "plt.xlabel('Value')\n",
    "\n",
    "plt.title(\"Airports\")\n",
    "plt.show()"
   ]
  },
  {
   "cell_type": "markdown",
   "id": "6a8d0352",
   "metadata": {},
   "source": [
    "Reference if you want to explore more about this option: \n",
    "- https://pandas.pydata.org/pandas-docs/stable/user_guide/visualization.html"
   ]
  },
  {
   "cell_type": "markdown",
   "id": "743bc915",
   "metadata": {},
   "source": [
    "<!--NAVIGATION-->\n",
    "< [Apply and Timestamp](06-apply-and-timestamp.ipynb) | [Contents](Index.ipynb) >"
   ]
  }
 ],
 "metadata": {
  "kernelspec": {
   "display_name": "Python 3",
   "language": "python",
   "name": "python3"
  },
  "language_info": {
   "codemirror_mode": {
    "name": "ipython",
    "version": 3
   },
   "file_extension": ".py",
   "mimetype": "text/x-python",
   "name": "python",
   "nbconvert_exporter": "python",
   "pygments_lexer": "ipython3",
   "version": "3.8.5"
  }
 },
 "nbformat": 4,
 "nbformat_minor": 5
}
