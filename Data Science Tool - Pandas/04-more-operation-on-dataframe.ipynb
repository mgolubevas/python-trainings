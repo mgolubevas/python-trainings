{
 "cells": [
  {
   "cell_type": "markdown",
   "id": "technical-lithuania",
   "metadata": {},
   "source": [
    "<!--NAVIGATION-->\n",
    "< [Data Cleaning and Handling Missing Values](03-data-cleaning-and-handling-missing-values.ipynb) | [Contents](Index.ipynb) | [Group and Pivot Functions](05-group-and-pivot-functions.ipynb) >"
   ]
  },
  {
   "cell_type": "markdown",
   "id": "creative-stamp",
   "metadata": {},
   "source": [
    "## More operation on dataframe"
   ]
  },
  {
   "cell_type": "markdown",
   "id": "threaded-jamaica",
   "metadata": {},
   "source": [
    "Here you will learn more operation on pandas dataframe where you can apply different mathematical functions."
   ]
  },
  {
   "cell_type": "markdown",
   "id": "electric-karaoke",
   "metadata": {},
   "source": [
    "To be able to test the functions, lets import a dataframe from dwh"
   ]
  },
  {
   "cell_type": "code",
   "execution_count": null,
   "id": "organizational-compression",
   "metadata": {},
   "outputs": [],
   "source": [
    "import pandas as pd\n",
    "\n",
    "df = pd.read_csv('../Data/airlineDT.csv', sep=',')\n",
    "df.head(5)"
   ]
  },
  {
   "cell_type": "markdown",
   "id": "postal-seminar",
   "metadata": {},
   "source": [
    "### Sum"
   ]
  },
  {
   "cell_type": "markdown",
   "id": "heavy-bruce",
   "metadata": {},
   "source": [
    "Here you can see a sum by column"
   ]
  },
  {
   "cell_type": "code",
   "execution_count": null,
   "id": "attended-trailer",
   "metadata": {},
   "outputs": [],
   "source": [
    "df.sum()"
   ]
  },
  {
   "cell_type": "markdown",
   "id": "pursuant-fundamentals",
   "metadata": {},
   "source": [
    "You can spot, that with string it an look messy, whereall hte strings are connected into one."
   ]
  },
  {
   "cell_type": "markdown",
   "id": "toxic-connection",
   "metadata": {},
   "source": [
    "Now lets take a look a sum by row. Notice that it is only enough to specify axis=1 to change focus of operation from column to row."
   ]
  },
  {
   "cell_type": "code",
   "execution_count": null,
   "id": "based-mirror",
   "metadata": {},
   "outputs": [],
   "source": [
    "df.sum(axis=1)"
   ]
  },
  {
   "cell_type": "markdown",
   "id": "raised-replication",
   "metadata": {},
   "source": [
    "### Aggregate"
   ]
  },
  {
   "cell_type": "markdown",
   "id": "interpreted-hazard",
   "metadata": {},
   "source": [
    "You can use to aggregate using one or more operations over the specified axis."
   ]
  },
  {
   "cell_type": "code",
   "execution_count": null,
   "id": "novel-binding",
   "metadata": {},
   "outputs": [],
   "source": [
    "df.agg(['sum', 'min','max', 'count'])"
   ]
  },
  {
   "cell_type": "markdown",
   "id": "dress-angle",
   "metadata": {},
   "source": [
    "You can notice, that it can be helpful to have an instant general view of dataframe, by using aggregate function which desired commands. Moreover, you can define different aggregations per selected columns"
   ]
  },
  {
   "cell_type": "code",
   "execution_count": null,
   "id": "loved-olive",
   "metadata": {},
   "outputs": [],
   "source": [
    "df.agg({'DEP_DELAY' : ['sum', 'min', 'mean'], 'ARR_DELAY' : ['min', 'max']})"
   ]
  },
  {
   "cell_type": "markdown",
   "id": "narrative-guard",
   "metadata": {},
   "source": [
    "Both columns have missing values, because we did not specified that we want to apply given operations for specific variables. References if you want to explore more: https://pandas.pydata.org/pandas-docs/stable/reference/api/pandas.DataFrame.groupby.html"
   ]
  },
  {
   "cell_type": "markdown",
   "id": "intended-contractor",
   "metadata": {},
   "source": [
    "### Drop"
   ]
  },
  {
   "cell_type": "markdown",
   "id": "soviet-national",
   "metadata": {},
   "source": [
    "Drop can be a quick solution if you want to take out a column (variable) from the dataframe. Lets inspect our current columns."
   ]
  },
  {
   "cell_type": "code",
   "execution_count": null,
   "id": "olympic-agency",
   "metadata": {
    "scrolled": true
   },
   "outputs": [],
   "source": [
    "df.columns"
   ]
  },
  {
   "cell_type": "markdown",
   "id": "recent-profile",
   "metadata": {},
   "source": [
    "We want to drop TEST_CARRIER_2, NEW_VARIABLE, TOTAL_TIME, YEAR, HOUR from our dataframe"
   ]
  },
  {
   "cell_type": "code",
   "execution_count": null,
   "id": "sharp-nutrition",
   "metadata": {},
   "outputs": [],
   "source": [
    "df = df.drop(['YEAR', 'HOUR','SCHED_DEP_TIME','SCHED_ARR_TIME'], axis=1)\n",
    "df.columns"
   ]
  },
  {
   "cell_type": "markdown",
   "id": "fluid-layer",
   "metadata": {},
   "source": [
    "<!--NAVIGATION-->\n",
    "< [Data Cleaning and Handling Missing Values](03-data-cleaning-and-handling-missing-values.ipynb) | [Contents](Index.ipynb) | [Group and Pivot Functions](05-group-and-pivot-functions.ipynb) >"
   ]
  }
 ],
 "metadata": {
  "kernelspec": {
   "display_name": "Python 3",
   "language": "python",
   "name": "python3"
  },
  "language_info": {
   "codemirror_mode": {
    "name": "ipython",
    "version": 3
   },
   "file_extension": ".py",
   "mimetype": "text/x-python",
   "name": "python",
   "nbconvert_exporter": "python",
   "pygments_lexer": "ipython3",
   "version": "3.8.5"
  }
 },
 "nbformat": 4,
 "nbformat_minor": 5
}
