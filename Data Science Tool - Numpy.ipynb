{
 "cells": [
  {
   "cell_type": "markdown",
   "id": "sonic-yorkshire",
   "metadata": {},
   "source": [
    "# NumPy: Numerical Python\n",
    "\n",
    "NumPy provides an efficient way to store and manipulate multi-dimensional dense arrays in Python.\n",
    "The important features of NumPy are:\n",
    "\n",
    "- It provides an ``ndarray`` structure, which allows efficient storage and manipulation of vectors, matrices, and higher-dimensional datasets.\n",
    "- It provides a readable and efficient syntax for operating on this data, from simple element-wise arithmetic to more complicated linear algebraic operations.\n",
    "- Pandas which is a common tool for data manipulation is built on top of NumPy"
   ]
  },
  {
   "cell_type": "markdown",
   "id": "moved-cause",
   "metadata": {},
   "source": [
    "### Why NumPy Not Pandas?\n",
    "- NumPy works faster than Pandas\n",
    "- Using for multi-dimensional arrays\n",
    "- array generators\n",
    "- Many popular libraries are build on top on NumPy (Pandas, Matplotlib, SciPy ...)"
   ]
  },
  {
   "cell_type": "markdown",
   "id": "graphic-briefs",
   "metadata": {},
   "source": [
    "## Basics"
   ]
  },
  {
   "cell_type": "markdown",
   "id": "judicial-allergy",
   "metadata": {},
   "source": [
    "Here is an array containing the range of numbers 1 to 9 (compare this with Python's built-in ``range()``):"
   ]
  },
  {
   "cell_type": "code",
   "execution_count": null,
   "id": "smoking-reference",
   "metadata": {},
   "outputs": [],
   "source": [
    "import numpy as np\n",
    "x = np.arange(1, 10)\n",
    "x"
   ]
  },
  {
   "cell_type": "markdown",
   "id": "clinical-theta",
   "metadata": {},
   "source": [
    "Moreover, this is a reminder how to properly select the value of the numpy array"
   ]
  },
  {
   "cell_type": "markdown",
   "id": "flush-trailer",
   "metadata": {},
   "source": [
    "<img src=\"fig/numpy_logic.png\" width=\"700\">"
   ]
  },
  {
   "cell_type": "markdown",
   "id": "prostate-player",
   "metadata": {},
   "source": [
    "NumPy's arrays offer both efficient storage of data, as well as efficient element-wise operations on the data. For example, to square each element of the array, we can apply the \"**\" operator to the array directly:"
   ]
  },
  {
   "cell_type": "code",
   "execution_count": null,
   "id": "caring-liverpool",
   "metadata": {},
   "outputs": [],
   "source": [
    "x ** 2"
   ]
  },
  {
   "cell_type": "markdown",
   "id": "decent-lebanon",
   "metadata": {},
   "source": [
    "Compare this with the much more verbose Python-style list comprehension for the same result:"
   ]
  },
  {
   "cell_type": "code",
   "execution_count": null,
   "id": "military-buyer",
   "metadata": {},
   "outputs": [],
   "source": [
    "[val ** 2 for val in range(1, 10)]"
   ]
  },
  {
   "cell_type": "markdown",
   "id": "later-advantage",
   "metadata": {},
   "source": [
    "Unlike Python lists (which are limited to one dimension), NumPy arrays can be multi-dimensional.\n",
    "For example, here we will reshape our ``x`` array into a 3x3 array:"
   ]
  },
  {
   "cell_type": "code",
   "execution_count": null,
   "id": "portuguese-spouse",
   "metadata": {},
   "outputs": [],
   "source": [
    "M = x.reshape((3, 3))\n",
    "M"
   ]
  },
  {
   "cell_type": "markdown",
   "id": "mineral-malaysia",
   "metadata": {},
   "source": [
    "A two-dimensional array is one representation of a matrix, and NumPy knows how to efficiently do typical matrix operations. For example, you can compute the transpose using ``.T``:"
   ]
  },
  {
   "cell_type": "code",
   "execution_count": null,
   "id": "soviet-democrat",
   "metadata": {},
   "outputs": [],
   "source": [
    "M.T"
   ]
  },
  {
   "cell_type": "markdown",
   "id": "standard-edgar",
   "metadata": {},
   "source": [
    "## Random Number Generator"
   ]
  },
  {
   "cell_type": "markdown",
   "id": "excessive-dominant",
   "metadata": {},
   "source": [
    "Lets create 2D random numbers 3x3"
   ]
  },
  {
   "cell_type": "code",
   "execution_count": null,
   "id": "defensive-insight",
   "metadata": {},
   "outputs": [],
   "source": [
    "np.random.random((3, 3))"
   ]
  },
  {
   "cell_type": "code",
   "execution_count": null,
   "id": "concrete-space",
   "metadata": {},
   "outputs": [],
   "source": [
    "np.random.random((3, 3))"
   ]
  },
  {
   "cell_type": "markdown",
   "id": "rotary-pressing",
   "metadata": {},
   "source": [
    "As well we can create a seed to have the same result, to have specific random values"
   ]
  },
  {
   "cell_type": "code",
   "execution_count": null,
   "id": "clear-scout",
   "metadata": {},
   "outputs": [],
   "source": [
    "rng = np.random.default_rng(seed=42)"
   ]
  },
  {
   "cell_type": "code",
   "execution_count": null,
   "id": "automotive-potter",
   "metadata": {},
   "outputs": [],
   "source": [
    "rng.random((3, 3))"
   ]
  },
  {
   "cell_type": "code",
   "execution_count": null,
   "id": "acquired-algorithm",
   "metadata": {},
   "outputs": [],
   "source": [
    "rng = np.random.default_rng(seed=42)"
   ]
  },
  {
   "cell_type": "code",
   "execution_count": null,
   "id": "extra-dining",
   "metadata": {},
   "outputs": [],
   "source": [
    "rng.random((3, 3))"
   ]
  },
  {
   "cell_type": "markdown",
   "id": "lovely-consolidation",
   "metadata": {},
   "source": [
    "## 1D array into a 2D array"
   ]
  },
  {
   "cell_type": "markdown",
   "id": "ruled-plumbing",
   "metadata": {},
   "source": [
    "You can change dimensionality of the array into multiple dimensions. For this case, lets try for 2D array"
   ]
  },
  {
   "cell_type": "code",
   "execution_count": null,
   "id": "nuclear-vinyl",
   "metadata": {},
   "outputs": [],
   "source": [
    "a = np.array([1, 2, 3, 4, 5, 6])\n",
    "a.shape"
   ]
  },
  {
   "cell_type": "markdown",
   "id": "charming-dryer",
   "metadata": {},
   "source": [
    "as wll you can add new axis with np.newaxis."
   ]
  },
  {
   "cell_type": "code",
   "execution_count": null,
   "id": "fabulous-miami",
   "metadata": {},
   "outputs": [],
   "source": [
    "a2 = a[np.newaxis, :]\n",
    "a2.shape"
   ]
  },
  {
   "cell_type": "markdown",
   "id": "baking-database",
   "metadata": {},
   "source": [
    "Moreover you can create a 2D array simply as "
   ]
  },
  {
   "cell_type": "code",
   "execution_count": null,
   "id": "regulation-beginning",
   "metadata": {},
   "outputs": [],
   "source": [
    "data = np.array([[1, 2], [3, 4]])\n",
    "data"
   ]
  },
  {
   "cell_type": "markdown",
   "id": "intellectual-graphic",
   "metadata": {},
   "source": [
    "In order to select data from 2D, given example below shows the different styles of it."
   ]
  },
  {
   "cell_type": "markdown",
   "id": "copyrighted-customer",
   "metadata": {},
   "source": [
    "<img src=\"fig/numpy_logic_2D.png\" width=\"600\">"
   ]
  },
  {
   "cell_type": "markdown",
   "id": "imperial-insertion",
   "metadata": {},
   "source": [
    "## Matrixes "
   ]
  },
  {
   "cell_type": "markdown",
   "id": "brown-setting",
   "metadata": {},
   "source": [
    "Similary as we created a 2D datset, we ca do the same with matrixes. The whole structure of matrixes is good to know the logic of how numpy works."
   ]
  },
  {
   "cell_type": "code",
   "execution_count": null,
   "id": "incorporated-alliance",
   "metadata": {},
   "outputs": [],
   "source": [
    "mat = np.matrix('1 2; 3 4')\n",
    "mat"
   ]
  },
  {
   "cell_type": "code",
   "execution_count": null,
   "id": "integral-index",
   "metadata": {},
   "outputs": [],
   "source": [
    "mat.sum()"
   ]
  },
  {
   "cell_type": "markdown",
   "id": "occupational-resource",
   "metadata": {},
   "source": [
    "A matrix is a specialized 2-D array that retains its 2-D nature through operation. You can check references more about it: https://numpy.org/doc/stable/reference/generated/numpy.matrix.html"
   ]
  },
  {
   "cell_type": "markdown",
   "id": "different-equality",
   "metadata": {},
   "source": [
    "## Operations for 1D and 2D"
   ]
  },
  {
   "cell_type": "markdown",
   "id": "desperate-punch",
   "metadata": {},
   "source": [
    "Similary as for matrixes, the same logic can be appied for 2D arrays with the same type of operaitons."
   ]
  },
  {
   "cell_type": "code",
   "execution_count": null,
   "id": "international-snowboard",
   "metadata": {},
   "outputs": [],
   "source": [
    "a = np.array([[0.45053314, 0.17296777, 0.34376245, 0.5510652],\n",
    "              [0.54627315, 0.05093587, 0.40067661, 0.55645993],\n",
    "              [0.12697628, 0.82485143, 0.26590556, 0.56917101]])"
   ]
  },
  {
   "cell_type": "code",
   "execution_count": null,
   "id": "alert-clerk",
   "metadata": {},
   "outputs": [],
   "source": [
    "a"
   ]
  },
  {
   "cell_type": "code",
   "execution_count": null,
   "id": "republican-hotel",
   "metadata": {},
   "outputs": [],
   "source": [
    "a.sum()"
   ]
  },
  {
   "cell_type": "markdown",
   "id": "basic-bride",
   "metadata": {},
   "source": [
    "Moreover, you can apply more operatinos for array which are totally similar as to matrixes"
   ]
  },
  {
   "cell_type": "code",
   "execution_count": null,
   "id": "important-cream",
   "metadata": {},
   "outputs": [],
   "source": [
    "a.max()"
   ]
  },
  {
   "cell_type": "code",
   "execution_count": null,
   "id": "biological-picnic",
   "metadata": {},
   "outputs": [],
   "source": [
    "a.min()"
   ]
  },
  {
   "cell_type": "code",
   "execution_count": null,
   "id": "harmful-passport",
   "metadata": {},
   "outputs": [],
   "source": [
    "a[1,:]"
   ]
  },
  {
   "cell_type": "code",
   "execution_count": null,
   "id": "invalid-princess",
   "metadata": {},
   "outputs": [],
   "source": [
    "np.median(a[1,:])"
   ]
  },
  {
   "cell_type": "markdown",
   "id": "timely-gilbert",
   "metadata": {},
   "source": [
    "You can see there are multiple simple choices how you can apply different operations for different type of arrays"
   ]
  },
  {
   "cell_type": "markdown",
   "id": "unknown-update",
   "metadata": {},
   "source": [
    "In general, Pandas is more used practically for data analysis, but there can be cases where you might want to use numpy (more efficient speed, more dimensions, etc.). As well by understanding the logic of NumPy can help to understand faster other type of libraries since NumPy is popular to be used for the other libraries."
   ]
  }
 ],
 "metadata": {
  "kernelspec": {
   "display_name": "Python 3",
   "language": "python",
   "name": "python3"
  },
  "language_info": {
   "codemirror_mode": {
    "name": "ipython",
    "version": 3
   },
   "file_extension": ".py",
   "mimetype": "text/x-python",
   "name": "python",
   "nbconvert_exporter": "python",
   "pygments_lexer": "ipython3",
   "version": "3.8.5"
  }
 },
 "nbformat": 4,
 "nbformat_minor": 5
}
