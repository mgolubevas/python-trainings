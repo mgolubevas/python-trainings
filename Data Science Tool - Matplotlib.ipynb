{
 "cells": [
  {
   "cell_type": "markdown",
   "id": "naval-malta",
   "metadata": {},
   "source": [
    "# Matplotlib MatLab-style scientific visualization\n",
    "\n",
    "Matplotlib is currently the most popular scientific visualization packages in Python.\n",
    "Even proponents admit that its interface is sometimes overly verbose, but it is a powerful library for creating a large range of plots.\n",
    "\n",
    "To use Matplotlib, we can start by enabling the notebook mode (for use in the Jupyter notebook) and then importing the package as ``plt``."
   ]
  },
  {
   "cell_type": "markdown",
   "id": "incorporated-heading",
   "metadata": {},
   "source": [
    "To start with, lets import the data"
   ]
  },
  {
   "cell_type": "code",
   "execution_count": 1,
   "id": "contrary-entry",
   "metadata": {},
   "outputs": [
    {
     "data": {
      "text/html": [
       "<div>\n",
       "<style scoped>\n",
       "    .dataframe tbody tr th:only-of-type {\n",
       "        vertical-align: middle;\n",
       "    }\n",
       "\n",
       "    .dataframe tbody tr th {\n",
       "        vertical-align: top;\n",
       "    }\n",
       "\n",
       "    .dataframe thead th {\n",
       "        text-align: right;\n",
       "    }\n",
       "</style>\n",
       "<table border=\"1\" class=\"dataframe\">\n",
       "  <thead>\n",
       "    <tr style=\"text-align: right;\">\n",
       "      <th></th>\n",
       "      <th>YEAR</th>\n",
       "      <th>MONTH</th>\n",
       "      <th>DAY</th>\n",
       "      <th>DEP_TIME</th>\n",
       "      <th>SCHED_DEP_TIME</th>\n",
       "      <th>DEP_DELAY</th>\n",
       "      <th>ARR_TIME</th>\n",
       "      <th>SCHED_ARR_TIME</th>\n",
       "      <th>ARR_DELAY</th>\n",
       "      <th>CARRIER</th>\n",
       "      <th>FLIGHT</th>\n",
       "      <th>TAILNUM</th>\n",
       "      <th>ORIGIN</th>\n",
       "      <th>DEST</th>\n",
       "      <th>AIR_TIME</th>\n",
       "      <th>DISTANCE</th>\n",
       "      <th>HOUR</th>\n",
       "      <th>MINUTE</th>\n",
       "      <th>TIME_HOUR</th>\n",
       "    </tr>\n",
       "  </thead>\n",
       "  <tbody>\n",
       "    <tr>\n",
       "      <th>0</th>\n",
       "      <td>2013</td>\n",
       "      <td>1</td>\n",
       "      <td>1</td>\n",
       "      <td>517.0</td>\n",
       "      <td>515</td>\n",
       "      <td>2.0</td>\n",
       "      <td>830.0</td>\n",
       "      <td>819</td>\n",
       "      <td>11.0</td>\n",
       "      <td>UA</td>\n",
       "      <td>1545</td>\n",
       "      <td>N14228</td>\n",
       "      <td>EWR</td>\n",
       "      <td>IAH</td>\n",
       "      <td>227.0</td>\n",
       "      <td>1400</td>\n",
       "      <td>5</td>\n",
       "      <td>15</td>\n",
       "      <td>2013-01-01T10:00:00Z</td>\n",
       "    </tr>\n",
       "    <tr>\n",
       "      <th>1</th>\n",
       "      <td>2013</td>\n",
       "      <td>1</td>\n",
       "      <td>1</td>\n",
       "      <td>533.0</td>\n",
       "      <td>529</td>\n",
       "      <td>4.0</td>\n",
       "      <td>850.0</td>\n",
       "      <td>830</td>\n",
       "      <td>20.0</td>\n",
       "      <td>UA</td>\n",
       "      <td>1714</td>\n",
       "      <td>N24211</td>\n",
       "      <td>LGA</td>\n",
       "      <td>IAH</td>\n",
       "      <td>227.0</td>\n",
       "      <td>1416</td>\n",
       "      <td>5</td>\n",
       "      <td>29</td>\n",
       "      <td>2013-01-01T10:00:00Z</td>\n",
       "    </tr>\n",
       "    <tr>\n",
       "      <th>2</th>\n",
       "      <td>2013</td>\n",
       "      <td>1</td>\n",
       "      <td>1</td>\n",
       "      <td>623.0</td>\n",
       "      <td>627</td>\n",
       "      <td>-4.0</td>\n",
       "      <td>933.0</td>\n",
       "      <td>932</td>\n",
       "      <td>1.0</td>\n",
       "      <td>UA</td>\n",
       "      <td>496</td>\n",
       "      <td>N459UA</td>\n",
       "      <td>LGA</td>\n",
       "      <td>IAH</td>\n",
       "      <td>229.0</td>\n",
       "      <td>1416</td>\n",
       "      <td>6</td>\n",
       "      <td>27</td>\n",
       "      <td>2013-01-01T11:00:00Z</td>\n",
       "    </tr>\n",
       "    <tr>\n",
       "      <th>3</th>\n",
       "      <td>2013</td>\n",
       "      <td>1</td>\n",
       "      <td>1</td>\n",
       "      <td>728.0</td>\n",
       "      <td>732</td>\n",
       "      <td>-4.0</td>\n",
       "      <td>1041.0</td>\n",
       "      <td>1038</td>\n",
       "      <td>3.0</td>\n",
       "      <td>UA</td>\n",
       "      <td>473</td>\n",
       "      <td>N488UA</td>\n",
       "      <td>LGA</td>\n",
       "      <td>IAH</td>\n",
       "      <td>238.0</td>\n",
       "      <td>1416</td>\n",
       "      <td>7</td>\n",
       "      <td>32</td>\n",
       "      <td>2013-01-01T12:00:00Z</td>\n",
       "    </tr>\n",
       "    <tr>\n",
       "      <th>4</th>\n",
       "      <td>2013</td>\n",
       "      <td>1</td>\n",
       "      <td>1</td>\n",
       "      <td>739.0</td>\n",
       "      <td>739</td>\n",
       "      <td>0.0</td>\n",
       "      <td>1104.0</td>\n",
       "      <td>1038</td>\n",
       "      <td>26.0</td>\n",
       "      <td>UA</td>\n",
       "      <td>1479</td>\n",
       "      <td>N37408</td>\n",
       "      <td>EWR</td>\n",
       "      <td>IAH</td>\n",
       "      <td>249.0</td>\n",
       "      <td>1400</td>\n",
       "      <td>7</td>\n",
       "      <td>39</td>\n",
       "      <td>2013-01-01T12:00:00Z</td>\n",
       "    </tr>\n",
       "  </tbody>\n",
       "</table>\n",
       "</div>"
      ],
      "text/plain": [
       "   YEAR  MONTH  DAY  DEP_TIME  SCHED_DEP_TIME  DEP_DELAY  ARR_TIME  \\\n",
       "0  2013      1    1     517.0             515        2.0     830.0   \n",
       "1  2013      1    1     533.0             529        4.0     850.0   \n",
       "2  2013      1    1     623.0             627       -4.0     933.0   \n",
       "3  2013      1    1     728.0             732       -4.0    1041.0   \n",
       "4  2013      1    1     739.0             739        0.0    1104.0   \n",
       "\n",
       "   SCHED_ARR_TIME  ARR_DELAY CARRIER  FLIGHT TAILNUM ORIGIN DEST  AIR_TIME  \\\n",
       "0             819       11.0      UA    1545  N14228    EWR  IAH     227.0   \n",
       "1             830       20.0      UA    1714  N24211    LGA  IAH     227.0   \n",
       "2             932        1.0      UA     496  N459UA    LGA  IAH     229.0   \n",
       "3            1038        3.0      UA     473  N488UA    LGA  IAH     238.0   \n",
       "4            1038       26.0      UA    1479  N37408    EWR  IAH     249.0   \n",
       "\n",
       "   DISTANCE  HOUR  MINUTE             TIME_HOUR  \n",
       "0      1400     5      15  2013-01-01T10:00:00Z  \n",
       "1      1416     5      29  2013-01-01T10:00:00Z  \n",
       "2      1416     6      27  2013-01-01T11:00:00Z  \n",
       "3      1416     7      32  2013-01-01T12:00:00Z  \n",
       "4      1400     7      39  2013-01-01T12:00:00Z  "
      ]
     },
     "execution_count": 1,
     "metadata": {},
     "output_type": "execute_result"
    }
   ],
   "source": [
    "import pandas as pd\n",
    "\n",
    "df = pd.read_csv('Data/airlineDT.csv', sep=',')\n",
    "df.head(5)"
   ]
  },
  {
   "cell_type": "markdown",
   "id": "played-connecticut",
   "metadata": {},
   "source": [
    "## Basics"
   ]
  },
  {
   "cell_type": "code",
   "execution_count": 3,
   "id": "russian-transcription",
   "metadata": {
    "scrolled": true
   },
   "outputs": [],
   "source": [
    "# run this if using Jupyter notebook #matplotlib notebook\n",
    "%matplotlib inline\n",
    "%config InlineBackend.print_figure_kwargs={'bbox_inches':None}"
   ]
  },
  {
   "cell_type": "code",
   "execution_count": 4,
   "id": "dying-michigan",
   "metadata": {},
   "outputs": [],
   "source": [
    "import matplotlib.pyplot as plt"
   ]
  },
  {
   "cell_type": "markdown",
   "id": "answering-animation",
   "metadata": {},
   "source": [
    "If you run this code live, you will see an interactive plot that lets you pan, zoom, and scroll to explore the data.\n",
    "\n",
    "This is the simplest example of a Matplotlib plot; for ideas on the wide range of plot types available, see [Matplotlib's online gallery](http://matplotlib.org/gallery.html)"
   ]
  },
  {
   "cell_type": "markdown",
   "id": "strategic-beads",
   "metadata": {},
   "source": [
    "Lets take a look how a default style looks with more labels (Default style - 'classic')"
   ]
  },
  {
   "cell_type": "code",
   "execution_count": 5,
   "id": "isolated-democracy",
   "metadata": {},
   "outputs": [
    {
     "data": {
      "image/png": "[encoded data removed]",
      "text/plain": [
       "<Figure size 432x288 with 1 Axes>"
      ]
     },
     "metadata": {
      "needs_background": "light"
     },
     "output_type": "display_data"
    }
   ],
   "source": [
    "plt.plot(df['AIR_TIME'])\n",
    "plt.show()"
   ]
  },
  {
   "cell_type": "markdown",
   "id": "built-processor",
   "metadata": {},
   "source": [
    "Obviously it is not clear about this graph, what are values, 'the big picture'. We want to add more labels, legends where we can create easily by ourselves. As well we want to include some datetime in out x axis."
   ]
  },
  {
   "cell_type": "code",
   "execution_count": 6,
   "id": "reported-pilot",
   "metadata": {},
   "outputs": [
    {
     "data": {
      "image/png": "[encoded data removed]",
      "text/plain": [
       "<Figure size 432x288 with 1 Axes>"
      ]
     },
     "metadata": {
      "needs_background": "light"
     },
     "output_type": "display_data"
    }
   ],
   "source": [
    "plt.plot(df['TIME_HOUR'], df['AIR_TIME'], color=\"red\", label=\"AIR TIME\")\n",
    "\n",
    "plt.xlabel('Date')\n",
    "\n",
    "plt.title(\"AIR_TIME\")\n",
    "plt.legend()\n",
    "plt.show()"
   ]
  },
  {
   "cell_type": "markdown",
   "id": "interstate-casino",
   "metadata": {},
   "source": [
    "Datetime can be given not completely as time series, so we want to sort our dataframe by time, to make sure our time series are correct."
   ]
  },
  {
   "cell_type": "code",
   "execution_count": 7,
   "id": "alternative-serial",
   "metadata": {},
   "outputs": [],
   "source": [
    "df = df.sort_values(by=['TIME_HOUR'])"
   ]
  },
  {
   "cell_type": "code",
   "execution_count": 8,
   "id": "colonial-occasions",
   "metadata": {},
   "outputs": [
    {
     "data": {
      "image/png": "[encoded data removed]",
      "text/plain": [
       "<Figure size 432x288 with 1 Axes>"
      ]
     },
     "metadata": {
      "needs_background": "light"
     },
     "output_type": "display_data"
    }
   ],
   "source": [
    "plt.plot(df['TIME_HOUR'], df['AIR_TIME'], color=\"red\", label=\"AIR TIME\")\n",
    "\n",
    "plt.ylabel('Minutes')\n",
    "plt.xlabel('Date')\n",
    "\n",
    "plt.title(\"AIR_TIME\")\n",
    "plt.legend()\n",
    "plt.show()"
   ]
  },
  {
   "cell_type": "markdown",
   "id": "alleged-study",
   "metadata": {},
   "source": [
    "Clearly, it solved the problem."
   ]
  },
  {
   "cell_type": "markdown",
   "id": "described-sudan",
   "metadata": {},
   "source": [
    "As you can see, we created a customized graph. Important to mention that matplotlib support different type of graph."
   ]
  },
  {
   "cell_type": "markdown",
   "id": "choice-visitor",
   "metadata": {},
   "source": [
    "Now lets take a look at string values, where we want to see histogram of it. Moreover, we can include a value of other axis in out graph and to count how many are of these groups. To start with, we want to extract frequency of each unique value."
   ]
  },
  {
   "cell_type": "code",
   "execution_count": 9,
   "id": "younger-framework",
   "metadata": {},
   "outputs": [
    {
     "data": {
      "text/plain": [
       "EWR    3973\n",
       "LGA    2951\n",
       "JFK     274\n",
       "Name: ORIGIN, dtype: int64"
      ]
     },
     "execution_count": 9,
     "metadata": {},
     "output_type": "execute_result"
    }
   ],
   "source": [
    "df['ORIGIN'].value_counts()"
   ]
  },
  {
   "cell_type": "markdown",
   "id": "constitutional-delicious",
   "metadata": {},
   "source": [
    "Since we focus on Pandas, we can call a graph straight out of the modified dataset by frequency of each unique value. Inside the **plot()** function we can define what **kind** of graph we want."
   ]
  },
  {
   "cell_type": "code",
   "execution_count": null,
   "id": "polyphonic-techno",
   "metadata": {},
   "outputs": [],
   "source": [
    "import numpy as np\n",
    "\n",
    "df['ORIGIN'].value_counts().plot(kind='bar')\n",
    "\n",
    "plt.ylabel('Count')\n",
    "plt.xlabel('Group')\n",
    "\n",
    "plt.title(\"AIR_TIME\")\n",
    "plt.legend()\n",
    "plt.show()"
   ]
  },
  {
   "cell_type": "markdown",
   "id": "naughty-voltage",
   "metadata": {},
   "source": [
    "Clearly matplotlib supports a lot of customization in order to be able to express the ideas as clearly as possible. You can customize data points as you want and include any type of datapoints"
   ]
  },
  {
   "cell_type": "markdown",
   "id": "broad-agenda",
   "metadata": {},
   "source": [
    "The last thing which is important to take into account is to combine multiple graphs in the same. As an example,"
   ]
  },
  {
   "cell_type": "code",
   "execution_count": null,
   "id": "retained-respondent",
   "metadata": {},
   "outputs": [],
   "source": [
    "plt.plot(df['TIME_HOUR'], df['AIR_TIME'], color=\"red\", label=\"AIR TIME\")\n",
    "plt.plot(df['TIME_HOUR'], df['DEP_DELAY'], color=\"green\", label=\"DEP DELAY\")\n",
    "\n",
    "plt.ylabel('Time')\n",
    "plt.xlabel('Date')\n",
    "\n",
    "plt.title(\"AIR_TIME\")\n",
    "plt.legend()\n",
    "plt.show()"
   ]
  },
  {
   "cell_type": "markdown",
   "id": "narrative-needle",
   "metadata": {},
   "source": [
    "It can look not very clearly to compare two time series, so we want to add secondary axis"
   ]
  },
  {
   "cell_type": "code",
   "execution_count": null,
   "id": "greatest-operator",
   "metadata": {},
   "outputs": [],
   "source": [
    "fig,ax = plt.subplots()\n",
    "# make a plot\n",
    "ax.plot(df['TIME_HOUR'], df['AIR_TIME'], color=\"red\", label=\"AIR TIME\")\n",
    "ax.set_xlabel(\"year\")\n",
    "ax.set_ylabel(\"AIR_TIME minutes\",color=\"red\")\n",
    "\n",
    "# twin object for two different y-axis on the sample plot\n",
    "ax2=ax.twinx()\n",
    "ax2.plot(df['TIME_HOUR'], df['DEP_DELAY'], color=\"green\", label=\"DEP DELAY\")\n",
    "ax2.set_ylabel(\"DEP_DELAY minutes\",color=\"green\")\n",
    "plt.show()\n",
    "# save the plot as a file"
   ]
  },
  {
   "cell_type": "markdown",
   "id": "forward-scratch",
   "metadata": {},
   "source": [
    "## Subplots"
   ]
  },
  {
   "cell_type": "markdown",
   "id": "knowing-serial",
   "metadata": {},
   "source": [
    "Another similar case to secondary axis to have a two separate plots next to each other. Here you will see how to display multiple plots in a single figure using the subplot function. First, you need to define how many subplots will be. Assuming we will do with 2 subplots in 1 figure."
   ]
  },
  {
   "cell_type": "code",
   "execution_count": null,
   "id": "former-finland",
   "metadata": {},
   "outputs": [],
   "source": [
    "fig, axs = plt.subplots(2)\n",
    "fig.suptitle('2 plots in 1 figure')\n",
    "axs[0].plot(df['TIME_HOUR'], df['AIR_TIME'], color=\"red\")\n",
    "df['ORIGIN'].value_counts().plot(kind='bar',ax=axs[1])\n",
    "fig.show()"
   ]
  },
  {
   "cell_type": "markdown",
   "id": "certified-kitty",
   "metadata": {},
   "source": [
    "You can see that we called differently both sublots:\n",
    "- **axs[0].plot(df['TIME_HOUR'], df['AIR_TIME'], color=\"red\")**: the reason is that we give a specific datasets inside the plot() function\n",
    "\n",
    "- **df['ORIGIN'].value_counts().plot(kind='bar', ax=axs[1])**:  here we call a graph straight out of the pandas dataframe, that is why we defindind sublot position inside the plot() function. If we want to do in the same way as in the first option, we should need to separate df['ORIGIN'].value_counts() into two separate series and give inside the plot() function."
   ]
  },
  {
   "cell_type": "markdown",
   "id": "dressed-rwanda",
   "metadata": {},
   "source": [
    "## Style Sheets"
   ]
  },
  {
   "cell_type": "markdown",
   "id": "increasing-borough",
   "metadata": {},
   "source": [
    "There is a big list of which u can use what kind of style graph can use."
   ]
  },
  {
   "cell_type": "code",
   "execution_count": null,
   "id": "responsible-synthesis",
   "metadata": {},
   "outputs": [],
   "source": [
    "for style in plt.style.available:\n",
    "    print(style)"
   ]
  },
  {
   "cell_type": "markdown",
   "id": "collectible-seven",
   "metadata": {},
   "source": [
    "Lets explore how the style will change by applying ggplot which R's style graph."
   ]
  },
  {
   "cell_type": "code",
   "execution_count": null,
   "id": "animal-daniel",
   "metadata": {},
   "outputs": [],
   "source": [
    "plt.style.use('ggplot')  # make graphs in the style of R's ggplot"
   ]
  },
  {
   "cell_type": "code",
   "execution_count": null,
   "id": "distributed-lightweight",
   "metadata": {},
   "outputs": [],
   "source": [
    "plt.plot(df['TIME_HOUR'], df['AIR_TIME'], color=\"red\", label=\"AIR TIME\")\n",
    "\n",
    "plt.ylabel('Minutes')\n",
    "plt.xlabel('Date')\n",
    "\n",
    "plt.title(\"AIR_TIME\")\n",
    "plt.legend()\n",
    "plt.show()"
   ]
  },
  {
   "cell_type": "markdown",
   "id": "center-clearing",
   "metadata": {},
   "source": [
    "## Boxplot"
   ]
  },
  {
   "cell_type": "markdown",
   "id": "beneficial-vocabulary",
   "metadata": {},
   "source": [
    "Frist lets take a look at boxplots. We want to explore about arrive delays, how data is distributed to spot outliers."
   ]
  },
  {
   "cell_type": "code",
   "execution_count": null,
   "id": "deadly-variable",
   "metadata": {},
   "outputs": [],
   "source": [
    "plt.style.use('default')"
   ]
  },
  {
   "cell_type": "code",
   "execution_count": null,
   "id": "adopted-recycling",
   "metadata": {},
   "outputs": [],
   "source": [
    "df['ARR_DELAY'][df['ARR_DELAY'].isna()]"
   ]
  },
  {
   "cell_type": "code",
   "execution_count": null,
   "id": "noted-criminal",
   "metadata": {},
   "outputs": [],
   "source": [
    "plt.boxplot(df['ARR_DELAY'])\n",
    "plt.title(\"Boxplot of arrive delay\")\n",
    "plt.show()"
   ]
  },
  {
   "cell_type": "markdown",
   "id": "adjusted-mirror",
   "metadata": {},
   "source": [
    "The boxplot is empty. One of the common reason can be that data is missing some values, so matplotlib can struggle to identify how treat missing data for specific style of graphs. We want to remove the missing values to be able to plot boxplot."
   ]
  },
  {
   "cell_type": "code",
   "execution_count": null,
   "id": "varied-syria",
   "metadata": {},
   "outputs": [],
   "source": [
    "df.dropna(inplace=True)"
   ]
  },
  {
   "cell_type": "code",
   "execution_count": null,
   "id": "indonesian-twins",
   "metadata": {},
   "outputs": [],
   "source": [
    "plt.boxplot(df['ARR_DELAY'])\n",
    "plt.title(\"Boxplot of arrive delay\")\n",
    "plt.show()"
   ]
  },
  {
   "cell_type": "markdown",
   "id": "sweet-narrow",
   "metadata": {},
   "source": [
    "## Histogram"
   ]
  },
  {
   "cell_type": "markdown",
   "id": "final-vertex",
   "metadata": {},
   "source": [
    "Now we want to explore how data is distributed by shedule arrive time."
   ]
  },
  {
   "cell_type": "code",
   "execution_count": null,
   "id": "hollow-yugoslavia",
   "metadata": {},
   "outputs": [],
   "source": [
    "plt.hist(df['AIR_TIME'], label=\"Arrive time\")\n",
    "plt.title(\"Histograms of departure and arrive times\")\n",
    "\n",
    "plt.ylabel('Frequency')\n",
    "plt.xlabel('Minutes')\n",
    "\n",
    "plt.legend()\n",
    "plt.show()"
   ]
  },
  {
   "cell_type": "markdown",
   "id": "narrow-absorption",
   "metadata": {},
   "source": [
    "## Scatter Matrix"
   ]
  },
  {
   "cell_type": "markdown",
   "id": "corresponding-possible",
   "metadata": {},
   "source": [
    "The last graph which is useful for a quick look up for a data is scatter matrix. Matplotlib doesn't usually contain plotting functions that operate on more than one axes object (subplot, in this case). To overcome given issue, pandas support a full support for scatter matrix from itself. Moreover, we want to get rid of variables in which we are not interested, since scatter matrix could look to much messy."
   ]
  },
  {
   "cell_type": "code",
   "execution_count": null,
   "id": "charged-dispute",
   "metadata": {},
   "outputs": [],
   "source": [
    "df_plot = df[['DEP_TIME','SCHED_DEP_TIME','DEP_DELAY','ARR_TIME', 'TAILNUM']]\n",
    "pd.plotting.scatter_matrix(df_plot)\n",
    "plt.show()"
   ]
  }
 ],
 "metadata": {
  "kernelspec": {
   "display_name": "Python 3",
   "language": "python",
   "name": "python3"
  },
  "language_info": {
   "codemirror_mode": {
    "name": "ipython",
    "version": 3
   },
   "file_extension": ".py",
   "mimetype": "text/x-python",
   "name": "python",
   "nbconvert_exporter": "python",
   "pygments_lexer": "ipython3",
   "version": "3.8.5"
  }
 },
 "nbformat": 4,
 "nbformat_minor": 5
}
