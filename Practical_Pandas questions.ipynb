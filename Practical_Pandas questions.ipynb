{
 "cells": [
  {
   "cell_type": "markdown",
   "metadata": {},
   "source": [
    "# Practical Pandas"
   ]
  },
  {
   "cell_type": "markdown",
   "metadata": {},
   "source": [
    "Now we will use practical skills for a given case."
   ]
  },
  {
   "cell_type": "markdown",
   "metadata": {},
   "source": [
    "## 1. Load Data"
   ]
  },
  {
   "cell_type": "markdown",
   "metadata": {},
   "source": [
    "Lets load all the data from the APP.ANALYST_TRAININGS table"
   ]
  },
  {
   "cell_type": "code",
   "execution_count": null,
   "metadata": {},
   "outputs": [],
   "source": [
    "import pandas as pd\n",
    "\n",
    "df = pd.read_csv('Data/airlineDT.csv', sep=',')\n",
    "df.head(5)"
   ]
  },
  {
   "cell_type": "markdown",
   "metadata": {},
   "source": [
    "First we need to convert the data to a pandas dataframe. Do the conversion of \"rows\" to a pandas dataframe called \"df\":"
   ]
  },
  {
   "cell_type": "code",
   "execution_count": null,
   "metadata": {},
   "outputs": [],
   "source": []
  },
  {
   "cell_type": "markdown",
   "metadata": {},
   "source": [
    "To get a better understanding of content of the dataframe we can use the pandas function describe. Use pandas describe function:"
   ]
  },
  {
   "cell_type": "code",
   "execution_count": null,
   "metadata": {},
   "outputs": [],
   "source": []
  },
  {
   "cell_type": "markdown",
   "metadata": {},
   "source": [
    "We can also use the agg function. Here can we also show the column types. Use pandas agg function and show type information(\"dtypes\"), count(\"count\") and mean(\"mean\")"
   ]
  },
  {
   "cell_type": "code",
   "execution_count": null,
   "metadata": {},
   "outputs": [],
   "source": []
  },
  {
   "cell_type": "markdown",
   "metadata": {},
   "source": [
    "Let us also check the top 10 in the dataframe. Print top 10 from the dataframe:"
   ]
  },
  {
   "cell_type": "code",
   "execution_count": null,
   "metadata": {},
   "outputs": [],
   "source": []
  },
  {
   "cell_type": "markdown",
   "metadata": {},
   "source": [
    "## 2. Clean data"
   ]
  },
  {
   "cell_type": "markdown",
   "metadata": {},
   "source": [
    "We want to get rid of non significant variables which are \"YEAR\", \"MONTH\" and \"DAY\". This are contained in \"TIME_HOUR\". Columns that are not needed should be excluded in the SQL query instead. \n",
    "Write the code to drop the columns"
   ]
  },
  {
   "cell_type": "code",
   "execution_count": null,
   "metadata": {},
   "outputs": [],
   "source": []
  },
  {
   "cell_type": "markdown",
   "metadata": {},
   "source": [
    "Let's check wich columns we now have"
   ]
  },
  {
   "cell_type": "code",
   "execution_count": null,
   "metadata": {},
   "outputs": [],
   "source": [
    "df.columns"
   ]
  },
  {
   "cell_type": "markdown",
   "metadata": {},
   "source": [
    "Some of the columns can be hard to read or to understand. Lets rename them"
   ]
  },
  {
   "cell_type": "code",
   "execution_count": null,
   "metadata": {},
   "outputs": [],
   "source": [
    "df.rename(columns={'DEP_TIME':'DEPARTURE_TIME', 'SCHED_DEP_TIME':'SCHEDULED_DEPARTURE_TIME', 'DEP_DELAY':'DEPARTURE_DELAY', 'ARR_TIME':'ARRIVAL_TIME', \n",
    "                  'SCHED_ARR_TIME':'SCHEDULED_ARRIVAL_TIME', 'ARR_DELAY':'ARRIVAL_DELAY',  'DEST':'DESTINATION', 'HOUR':'SCHEDULED_DEPARTURE_HOUR', \n",
    "                   'MINUTE':'SCHEDULED_DEPARTURE_MINUTE',}, inplace= True)"
   ]
  },
  {
   "cell_type": "markdown",
   "metadata": {},
   "source": [
    "This is now the new dataframe"
   ]
  },
  {
   "cell_type": "code",
   "execution_count": null,
   "metadata": {},
   "outputs": [],
   "source": [
    "df.head(10)"
   ]
  },
  {
   "cell_type": "markdown",
   "metadata": {},
   "source": [
    "## 3. Feature Engineer"
   ]
  },
  {
   "cell_type": "markdown",
   "metadata": {},
   "source": [
    "\"DEPARTURE_TIME\", \"SCHEDULED_DEPARTURE_TIME\", \"ARRIVAL_TIME\" and \"SCHEDULED_ARRIVAL_TIME\" is in HHMM (hour and minutes combined as one number). \"SCHEDULED_DEPARTURE_TIME\" is a combination of \"SCHEDULED_DEPARTURE_HOUR\" and \"SCHEDULED_DEPARTURE_MINUTE\". Let's make the same columns for \"DEPARTURE_TIME\", \"ARRIVAL_TIME\" and \"SCHEDULED_ARRIVAL_TIME\"."
   ]
  },
  {
   "cell_type": "markdown",
   "metadata": {},
   "source": [
    "Run the given loop. Why does it crash? "
   ]
  },
  {
   "cell_type": "code",
   "execution_count": null,
   "metadata": {
    "scrolled": true
   },
   "outputs": [],
   "source": [
    "columns = ['DEPARTURE_TIME', 'ARRIVAL_TIME', 'SCHEDULED_ARRIVAL_TIME']\n",
    "\n",
    "for col in columns:\n",
    "    HHMM = df[col] # Here we fetch the current column in the dataframe\n",
    "    hour = (HHMM/100).astype(int) # We can find the hour in the column by deviding by 100 and set the result as an integer.\n",
    "    minute = HHMM - hour*100 # Minutes acn be found by substracting hour multiplied with 100 from the original column. \n",
    "    \n",
    "    new_column_name_hour = col[:col.find('_TIME')]+'_HOUR' # Here we delete \"_TIME\" in the name and replace it with \"_HOUR\"\n",
    "    new_column_name_minute = col[:col.find('_TIME')]+'_MINUTE' # Here we delete \"_TIME\" in the name and replace it with \"_MINUTE\"\n",
    "    df[new_column_name_hour] = hour  # Now we can add a new column with the values in hour\n",
    "    df[new_column_name_minute] = minute # Now we can add a new column with the values in minute"
   ]
  },
  {
   "cell_type": "markdown",
   "metadata": {},
   "source": [
    "Fix the crash:"
   ]
  },
  {
   "cell_type": "code",
   "execution_count": null,
   "metadata": {},
   "outputs": [],
   "source": []
  },
  {
   "cell_type": "markdown",
   "metadata": {},
   "source": [
    "Try to rerun the function:"
   ]
  },
  {
   "cell_type": "code",
   "execution_count": null,
   "metadata": {},
   "outputs": [],
   "source": [
    "columns = ['DEPARTURE_TIME', 'ARRIVAL_TIME', 'SCHEDULED_ARRIVAL_TIME']\n",
    "\n",
    "for col in columns:\n",
    "    HHMM = df[col] # Here we fetch the current column in the dataframe\n",
    "    hour = (HHMM/100).astype(int) # We can find the hour in the column by deviding by 100 and set the result as an integer.\n",
    "    minute = HHMM - hour*100 # Minutes acn be found by substracting hour multiplied with 100 from the original column. \n",
    "    \n",
    "    new_column_name_hour = col[:col.find('_TIME')]+'_HOUR' # Here we delete \"_TIME\" in the name and replace it with \"_HOUR\"\n",
    "    new_column_name_minute = col[:col.find('_TIME')]+'_MINUTE' # Here we delete \"_TIME\" in the name and replace it with \"_MINUTE\"\n",
    "    df[new_column_name_hour] = hour  # Now we can add a new column with the values in hour\n",
    "    df[new_column_name_minute] = minute # Now we can add a new column with the values in minute"
   ]
  },
  {
   "cell_type": "markdown",
   "metadata": {},
   "source": [
    "Lets now check that the columns has been sucessfully created ....."
   ]
  },
  {
   "cell_type": "code",
   "execution_count": null,
   "metadata": {},
   "outputs": [],
   "source": [
    "df.columns"
   ]
  },
  {
   "cell_type": "markdown",
   "metadata": {},
   "source": [
    "and check that the logic works"
   ]
  },
  {
   "cell_type": "code",
   "execution_count": null,
   "metadata": {},
   "outputs": [],
   "source": [
    "df[['DEPARTURE_TIME','DEPARTURE_HOUR', 'DEPARTURE_MINUTE']] .head()"
   ]
  },
  {
   "cell_type": "markdown",
   "metadata": {},
   "source": [
    "Lets delete \"DEPARTURE_TIME\", \"SCHEDULED_DEPARTURE_TIME\", \"ARRIVAL_TIME\" and \"SCHEDULED_ARRIVAL_TIME\" since we now have splitted them out in new columns \"_HOUR\" and \"_MINUTE\". Delete the columns:"
   ]
  },
  {
   "cell_type": "code",
   "execution_count": null,
   "metadata": {},
   "outputs": [],
   "source": []
  },
  {
   "cell_type": "markdown",
   "metadata": {},
   "source": [
    "Check the dataframe"
   ]
  },
  {
   "cell_type": "code",
   "execution_count": null,
   "metadata": {},
   "outputs": [],
   "source": [
    "df.head()"
   ]
  },
  {
   "cell_type": "markdown",
   "metadata": {},
   "source": [
    "## 4. Analyze and Visualize"
   ]
  },
  {
   "cell_type": "markdown",
   "metadata": {},
   "source": [
    "What is the mean departure delay, arrival delay and air time for the different carriers from one destination to another?\n",
    "We check this by using groupby, where the group is \"CARRIER\", \"ORIGIN\", \"DESTINATION\" and \"DISTANCE\". Then we use the mean function and pick out the following columns \"DEPARTURE_DELAY\",\"ARRIVAL_DELAY\" and \"AIR_TIME\". Use pandas groupby with mean() and pick out the columns"
   ]
  },
  {
   "cell_type": "code",
   "execution_count": null,
   "metadata": {},
   "outputs": [],
   "source": []
  },
  {
   "cell_type": "markdown",
   "metadata": {},
   "source": [
    "pd.plot (pandas plotting tool) is a easy and a quick way to plot the data. For more complex plots other plotting tools are required (e.g matplotlib, bokeh etc. ) (https://pandas.pydata.org/pandas-docs/stable/reference/api/pandas.DataFrame.plot.html)"
   ]
  },
  {
   "cell_type": "markdown",
   "metadata": {},
   "source": [
    "First let's print the distribution for departure delay and arrival delay. "
   ]
  },
  {
   "cell_type": "markdown",
   "metadata": {},
   "source": [
    "Plot the distribution for \"DEPARTURE_DELAY\""
   ]
  },
  {
   "cell_type": "code",
   "execution_count": null,
   "metadata": {},
   "outputs": [],
   "source": []
  },
  {
   "cell_type": "markdown",
   "metadata": {},
   "source": [
    "Plot the distribution for \"ARRIVAL_DELAY\""
   ]
  },
  {
   "cell_type": "code",
   "execution_count": null,
   "metadata": {},
   "outputs": [],
   "source": []
  },
  {
   "cell_type": "markdown",
   "metadata": {},
   "source": [
    "Is there any correlation between departure delay and arrival delay when grouped by scheduled departure hour?\n",
    "An easy check is to plot a line plot. Where the data is grouped by \"SCHEDULED_DEPARTURE_HOUR\" and then pick-out \"DEPARTURE_DELAY\" and \"ARRIVAL_DELAY\" before plotting. Use the mean (easier to interpret the Y-axis) to summarize the data.  Do the plot:"
   ]
  },
  {
   "cell_type": "code",
   "execution_count": null,
   "metadata": {},
   "outputs": [],
   "source": []
  },
  {
   "cell_type": "markdown",
   "metadata": {},
   "source": [
    "Do we see the same pattern when the group is \"AIR_TIME\"?"
   ]
  },
  {
   "cell_type": "code",
   "execution_count": null,
   "metadata": {},
   "outputs": [],
   "source": []
  },
  {
   "cell_type": "markdown",
   "metadata": {},
   "source": [
    "Lets check the correlation between \"DEPARTURE_DELAY\" and \"ARRIVAL_DELAY\". (Straighter the line indicates stronger correlation)\n",
    "\n",
    "Plot \"DEPARTURE_DELAY\" against \"ARRIVAL_DELAY\":"
   ]
  },
  {
   "cell_type": "code",
   "execution_count": null,
   "metadata": {},
   "outputs": [],
   "source": []
  },
  {
   "cell_type": "markdown",
   "metadata": {},
   "source": [
    "Is there any correlation between \"DEPARTURE_DELAY\" and \"ARRIVAL_DELAY\" when grouped by \"SCHEDULED_DEPARTURE_HOUR\" when only looking at the \"CARRIER\" UA?\n",
    "(The only change from before is to add \"CARRIER\" to the grouping and after finding the mean, then look up \"UA\" in the index.)"
   ]
  },
  {
   "cell_type": "code",
   "execution_count": null,
   "metadata": {},
   "outputs": [],
   "source": []
  },
  {
   "cell_type": "markdown",
   "metadata": {},
   "source": [
    "What is the true correlation for  \"DEPARTURE_DELAY\", \"ARRIVAL_DELAY\", \"AIR_TIME\" and \"DISTANCE\" in the dataset?\n",
    "This can be shown by picking out the wanted columns and then use pandas corr function."
   ]
  },
  {
   "cell_type": "code",
   "execution_count": null,
   "metadata": {},
   "outputs": [],
   "source": []
  }
 ],
 "metadata": {
  "kernelspec": {
   "display_name": "Python 3",
   "language": "python",
   "name": "python3"
  },
  "language_info": {
   "codemirror_mode": {
    "name": "ipython",
    "version": 3
   },
   "file_extension": ".py",
   "mimetype": "text/x-python",
   "name": "python",
   "nbconvert_exporter": "python",
   "pygments_lexer": "ipython3",
   "version": "3.8.5"
  },
  "toc": {
   "base_numbering": 1,
   "nav_menu": {},
   "number_sections": true,
   "sideBar": true,
   "skip_h1_title": false,
   "title_cell": "Table of Contents",
   "title_sidebar": "Contents",
   "toc_cell": false,
   "toc_position": {},
   "toc_section_display": true,
   "toc_window_display": false
  },
  "varInspector": {
   "cols": {
    "lenName": 16,
    "lenType": 16,
    "lenVar": 40
   },
   "kernels_config": {
    "python": {
     "delete_cmd_postfix": "",
     "delete_cmd_prefix": "del ",
     "library": "var_list.py",
     "varRefreshCmd": "print(var_dic_list())"
    },
    "r": {
     "delete_cmd_postfix": ") ",
     "delete_cmd_prefix": "rm(",
     "library": "var_list.r",
     "varRefreshCmd": "cat(var_dic_list()) "
    }
   },
   "types_to_exclude": [
    "module",
    "function",
    "builtin_function_or_method",
    "instance",
    "_Feature"
   ],
   "window_display": false
  }
 },
 "nbformat": 4,
 "nbformat_minor": 4
}
